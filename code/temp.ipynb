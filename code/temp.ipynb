{
 "cells": [
  {
   "cell_type": "code",
   "execution_count": 13,
   "id": "0f7b1b51",
   "metadata": {},
   "outputs": [
    {
     "data": {
      "text/plain": [
       "\"/home/taco/Documents/projects/paper_analysis/data/image/[고리4호기]증기발생기 'A' 수실 배수관의 배수밸브 용접부 누설부위 정비를 위한 원자로 수동정지/0.jpg\""
      ]
     },
     "execution_count": 13,
     "metadata": {},
     "output_type": "execute_result"
    }
   ],
   "source": [
    "import glob \n",
    "import os\n",
    "img_root = \"/home/taco/Documents/projects/paper_analysis/data/image\" \n",
    "txt_root = \"/home/taco/Documents/projects/paper_analysis/data/txt\"\n",
    "\"/home/taco/Documents/projects/paper_analysis/data/image/[고리4호기]증기발생기 'A' 수실 배수관의 배수밸브 용접부 누설부위 정비를 위한 원자로 수동정지/0.jpg\""
   ]
  },
  {
   "cell_type": "code",
   "execution_count": 24,
   "id": "6ce1b8d0",
   "metadata": {},
   "outputs": [],
   "source": [
    "img_list = list(glob.glob(f\"{img_root}/*\")) \n",
    "\n",
    "for img in img_list: \n",
    "    nm = os.path.basename(img)\n",
    "    txt_path = os.path.join(txt_root, nm) \n",
    "    escape = glob.escape(txt_path)\n",
    "    num_txt_files = len(list(glob.glob(f\"{escape}/*.txt\")))\n",
    "    escape2 = glob.escape(img)\n",
    "    num_img_files = len(list(glob.glob(f\"{escape2}/*.jpg\")))\n",
    "    if num_img_files != num_txt_files: \n",
    "        print(\"mismatch! \", nm)"
   ]
  },
  {
   "cell_type": "code",
   "execution_count": 11,
   "id": "8e715d08",
   "metadata": {},
   "outputs": [
    {
     "data": {
      "text/plain": [
       "['/home/taco/Documents/projects/paper_analysis/data/image/주변압기 1차측 B상 no',\n",
       " '/home/taco/Documents/projects/paper_analysis/data/image/주변압기 충격압력식 계전기(563C)오동작에 의한 발전정지 (1)',\n",
       " '/home/taco/Documents/projects/paper_analysis/data/image/주여자기 여자전원 상실에 의한 터빈 및 원자로정지[1]',\n",
       " '/home/taco/Documents/projects/paper_analysis/data/image/원자로 정지와 관련된 계전기 교체를 위한 원자로 수동정지[1]',\n",
       " '/home/taco/Documents/projects/paper_analysis/data/image/주급수펌프 정지에 의한 증기발생기 저-저 수위 발생으로 원자로정지[1]',\n",
       " '/home/taco/Documents/projects/paper_analysis/data/image/제어봉제어카드 고장에 의한 원자로 정지',\n",
       " '/home/taco/Documents/projects/paper_analysis/data/image/초기서면보고서',\n",
       " '/home/taco/Documents/projects/paper_analysis/data/image/핵연료기 교체기기 제동장치 보수 및 비상노심 냉각계통 파열판 교체[1]',\n",
       " '/home/taco/Documents/projects/paper_analysis/data/image/영광5-20021103 한수원',\n",
       " '/home/taco/Documents/projects/paper_analysis/data/image/울진4-20020526 한수원',\n",
       " '/home/taco/Documents/projects/paper_analysis/data/image/[월성3호기]비상노심냉각계통 격리밸브 결빙관막음(freeze plug) 밀봉부를 통한 냉각재 누설 정비를 위한 원자로 수동정지',\n",
       " '/home/taco/Documents/projects/paper_analysis/data/image/터빈 제어유계통 누설정비를 위해 수동정지',\n",
       " '/home/taco/Documents/projects/paper_analysis/data/image/전력계통 송전선로 지락 및 단락사고로 인한 터빈 및 원자로정지[1]',\n",
       " '/home/taco/Documents/projects/paper_analysis/data/image/울진1-20021020 & 20021026 한수원',\n",
       " '/home/taco/Documents/projects/paper_analysis/data/image/[월성4호기]계획예방정비 중 가압기 증기배출밸브 배관연결부 관통결함 발견',\n",
       " '/home/taco/Documents/projects/paper_analysis/data/image/증기발생기 수위제어 미숙으로 고-고 수위에 의한 터빈 및 원자로 정지',\n",
       " '/home/taco/Documents/projects/paper_analysis/data/image/터빈보호계통 주기시험중 터빈보호계통 유압 저로 터빈 및 원자로정지[1]',\n",
       " '/home/taco/Documents/projects/paper_analysis/data/image/직류전원 공급카드 기능저하로 터빈 과속도 오신호에 의한 원자로정지[1]',\n",
       " '/home/taco/Documents/projects/paper_analysis/data/image/주급수 제어밸브 보수를 위한 원자로 수동정지',\n",
       " '/home/taco/Documents/projects/paper_analysis/data/image/오신호 유입으로 주급수펌프 (3대)가 정지되어 증기발생기 수위 저-저로 원자로정지[1]',\n",
       " '/home/taco/Documents/projects/paper_analysis/data/image/원자로 제어봉 제어계통 고장에 의한 원자로정지[1]',\n",
       " '/home/taco/Documents/projects/paper_analysis/data/image/주변압기 보호용 차동계전기 동작에 의한 터빈 및 원자로 정지[1]',\n",
       " '/home/taco/Documents/projects/paper_analysis/data/image/이물질 유입에 따른 발전기 여자기 손상에 의한 원자로정지[1]',\n",
       " '/home/taco/Documents/projects/paper_analysis/data/image/주급수펌프 저유량 제어밸브 과도개방에 의한 주급수 유량 감소로 원자로정지[1]',\n",
       " '/home/taco/Documents/projects/paper_analysis/data/image/월성1호기주변압기오일가스고압력경보발생에따른발전정지',\n",
       " '/home/taco/Documents/projects/paper_analysis/data/image/큰가시고기떼 유입으로 원자로 및 터빈정지[1]',\n",
       " '/home/taco/Documents/projects/paper_analysis/data/image/제2017-01차_의결안건-02(월성1-4)',\n",
       " '/home/taco/Documents/projects/paper_analysis/data/image/전원절체중 계전기 오동작으로 원자로냉작재펌프가 정지하여 원자로정지 발생',\n",
       " '/home/taco/Documents/projects/paper_analysis/data/image/원자력이용시설_조사보고서(20010116 울진2)',\n",
       " '/home/taco/Documents/projects/paper_analysis/data/image/핵연료 압력관 환형기체계통 정화중 원자로건물 격리 발생',\n",
       " '/home/taco/Documents/projects/paper_analysis/data/image/요약서',\n",
       " '/home/taco/Documents/projects/paper_analysis/data/image/터빈진동 고 정비위해 수동정지',\n",
       " '/home/taco/Documents/projects/paper_analysis/data/image/주증기 차단밸브 시스템 절손으로 증기발생기 수위 저-저로 원자로 및 터빈 정지 보고서[1]',\n",
       " '/home/taco/Documents/projects/paper_analysis/data/image/제2016-02차_의결안건-06(신고리3)',\n",
       " '/home/taco/Documents/projects/paper_analysis/data/image/주급수우회밸브 동작불량에 의한 증기발생기 수위제어 실패로 원자로정지[1]',\n",
       " \"/home/taco/Documents/projects/paper_analysis/data/image/[고리4호기]증기발생기 'A' 수실 배수관의 배수밸브 용접부 누설부위 정비를 위한 원자로 수동정지\",\n",
       " '/home/taco/Documents/projects/paper_analysis/data/image/정기시험중 원자로 제1정지계통 동작',\n",
       " '/home/taco/Documents/projects/paper_analysis/data/image/원자력이용시설 초기서면보고서',\n",
       " '/home/taco/Documents/projects/paper_analysis/data/image/주급수공급펌프 재순환유로 격리밸브의 오동작으로 증기발생기 수위과도상태에 의한 원자로 수동정지',\n",
       " '/home/taco/Documents/projects/paper_analysis/data/image/터빈 진동상승으로 발전소 수동정지[1]',\n",
       " '/home/taco/Documents/projects/paper_analysis/data/image/원자력이용시설 사건 초기 서면보고서(22-고리12호기-1-0)',\n",
       " '/home/taco/Documents/projects/paper_analysis/data/image/태풍 셀마호의 영향으로 주발전기 및 주변압기 차동보호계전기 동작으로 터빈 및 원자로정지 (1)',\n",
       " '/home/taco/Documents/projects/paper_analysis/data/image/핵연료 교체용 브릿지 구동장치 고장부분 수리 및 간이보수위해 원자로정지',\n",
       " '/home/taco/Documents/projects/paper_analysis/data/image/저압터빈 _2 Extration steam line의 expansion joint 파열에 의한 수동정지[1]',\n",
       " '/home/taco/Documents/projects/paper_analysis/data/image/원자력관계시설사고고장보고서(95-영광2호기)',\n",
       " '/home/taco/Documents/projects/paper_analysis/data/image/원자로냉각재펌프 베어링 및 열차폐벽 기기냉각수 상실로 원자로 수동정지[1]',\n",
       " '/home/taco/Documents/projects/paper_analysis/data/image/영광6-20021122 한수원',\n",
       " '/home/taco/Documents/projects/paper_analysis/data/image/취수구에 새우떼 유입으로 순환수 펌프가 정지하면서 원자로정지[1](0)',\n",
       " '/home/taco/Documents/projects/paper_analysis/data/image/주변압기 B 상 고장으로 발전기 수동정지',\n",
       " '/home/taco/Documents/projects/paper_analysis/data/image/원자력이용시설_사고고장보고서(20011015 영광2)',\n",
       " '/home/taco/Documents/projects/paper_analysis/data/image/터빈 제어유 누설부 정비위해 수동정지',\n",
       " \"/home/taco/Documents/projects/paper_analysis/data/image/한울2호기 사건조사보고서('16\",\n",
       " '/home/taco/Documents/projects/paper_analysis/data/image/제어용전산기의 급수계통 설정값 부적절로 제2정지계통 동작에 의한 원자로 정지',\n",
       " '/home/taco/Documents/projects/paper_analysis/data/image/포항지역 지진에 의한 월성 1호기 지진경보 발생에 따른 점검',\n",
       " '/home/taco/Documents/projects/paper_analysis/data/image/주급수 펌프 A,C 불시정지로 증기발생기 수위 저-저에 의해 원자로 및 터빈정지[1]',\n",
       " '/home/taco/Documents/projects/paper_analysis/data/image/주발전 중성점 과전압계전기 동작에 의한 원자로정지[1]',\n",
       " '/home/taco/Documents/projects/paper_analysis/data/image/영광6-20021002 한수원',\n",
       " '/home/taco/Documents/projects/paper_analysis/data/image/[한빛3호기]원자로헤드 배기관 균열에 의한 원자로냉각재누설',\n",
       " '/home/taco/Documents/projects/paper_analysis/data/image/증기발생기 주증기 습분과다로 인한 원자로 정지[1]',\n",
       " '/home/taco/Documents/projects/paper_analysis/data/image/[한울3호기]계획예방정비 중 원자로냉각재계통 시료채취배관 연결부 관통결함 발견',\n",
       " '/home/taco/Documents/projects/paper_analysis/data/image/터빈진동 급상승에 따른 점검을 수행하기 위한 원자로 수동정지[1]',\n",
       " '/home/taco/Documents/projects/paper_analysis/data/image/저압터빈 배기온도 스위치 오동작으로 고 신호가 발생되어 터빈 및 원자로정지[1]',\n",
       " '/home/taco/Documents/projects/paper_analysis/data/image/입구 유효흡입수두 상실에 의한',\n",
       " '/home/taco/Documents/projects/paper_analysis/data/image/저압터빈 팽창율 점검 및 축밀봉장치 간극조정을 위한 원자로 수동정지',\n",
       " '/home/taco/Documents/projects/paper_analysis/data/image/주급수조절밸브의 동작불량에 의한 증기발생기 고-고 수위로 터빈발전기 및 원자로정지',\n",
       " '/home/taco/Documents/projects/paper_analysis/data/image/태풍 베라호의 영향으로 주변압기 차동 보호계전기가 동작되어 터빈 및 원자로 정지[1]',\n",
       " '/home/taco/Documents/projects/paper_analysis/data/image/제어봉 정지권선 전원공급 퓨즈의 용단에 의한 제어봉 낙하로 원자로정지[1]',\n",
       " '/home/taco/Documents/projects/paper_analysis/data/image/취수구에 새우떼 유입으로 원자로 수동삽입하여 미임계상태 도달',\n",
       " '/home/taco/Documents/projects/paper_analysis/data/image/주발전기 고정자냉각수 유량감소 정비위한 수동정지[1]',\n",
       " '/home/taco/Documents/projects/paper_analysis/data/image/주증기모관 배기밸브 정비, 저압터빈 날개 점검, MSR Expansion Bellows Joint 점검 등을 위한 원자로 수',\n",
       " '/home/taco/Documents/projects/paper_analysis/data/image/영출력 노물리 시험중 과도한 반응도 삽입에 의한 원자로정지[1]',\n",
       " '/home/taco/Documents/projects/paper_analysis/data/image/출력 상승중 파열된 비상노심 냉각계통 파열판 수리위해 원자로정지',\n",
       " '/home/taco/Documents/projects/paper_analysis/data/image/주증기 수분함량 감소를 위한 증기발생기 내부 설계변경 및 간이보수[1]',\n",
       " '/home/taco/Documents/projects/paper_analysis/data/image/요약본',\n",
       " '/home/taco/Documents/projects/paper_analysis/data/image/태풍 셀마호의 영향으로 주발전기 차동계전기 동작으로 터빈 및 원자로정지[1]',\n",
       " '/home/taco/Documents/projects/paper_analysis/data/image/울진2-20030516 한수원',\n",
       " '/home/taco/Documents/projects/paper_analysis/data/image/흡수봉(MCA)제어장치 CLUTCH POWER DIODE 교체[1]',\n",
       " '/home/taco/Documents/projects/paper_analysis/data/image/주발전기 냉각용 수소가스 누설부 정비위해 수동정지',\n",
       " '/home/taco/Documents/projects/paper_analysis/data/image/제어봉 구동전원 접속부위 접촉불량에 의한 제어봉 낙하로 원자로정지[1]',\n",
       " '/home/taco/Documents/projects/paper_analysis/data/image/취수구에 새우떼 유입으로 순환수 펌프가 정지하면서 원자로정지[1](2)',\n",
       " '/home/taco/Documents/projects/paper_analysis/data/image/원자로 냉각재 유로의 RTD 우회배관 차단밸브 누설부 정비위한 수동정지[1]',\n",
       " '/home/taco/Documents/projects/paper_analysis/data/image/원자력이용시설_조사보고서(20010903 영광2)',\n",
       " '/home/taco/Documents/projects/paper_analysis/data/image/터빈 과속보호꼐통 시험중 증기발생기 저-저에 의해 원자로 및 터빈 정지[1]',\n",
       " '/home/taco/Documents/projects/paper_analysis/data/image/주급수 제어밸브 FCV-522 제어 불량으로 SG B LO LO LVL 되어 원자로 및 터빈 발전기 정지',\n",
       " '/home/taco/Documents/projects/paper_analysis/data/image/전자기판 소자 고장에 의한 주_',\n",
       " '/home/taco/Documents/projects/paper_analysis/data/image/주급수 차단밸브의 누설보수를 위해 터빈발전기 및 원자로 수동정지',\n",
       " '/home/taco/Documents/projects/paper_analysis/data/image/주급수펌프 정지에 의한 원자로 및 터빈 발전기 정지 보고서',\n",
       " '/home/taco/Documents/projects/paper_analysis/data/image/주급수조절밸브 위치기 고장에 의한 터빈 및 원자로 정지[1]',\n",
       " '/home/taco/Documents/projects/paper_analysis/data/image/울진3-20021227 한수원',\n",
       " '/home/taco/Documents/projects/paper_analysis/data/image/원자력이용시설 사건 초기 서면보고서',\n",
       " '/home/taco/Documents/projects/paper_analysis/data/image/폐기물 처리건물 1차 기기 냉각수 공급밸브 오조작으로 원자로정지[1]',\n",
       " '/home/taco/Documents/projects/paper_analysis/data/image/울진1-20031013 한수원',\n",
       " '/home/taco/Documents/projects/paper_analysis/data/image/터빈베어링 진동증가 보수를 위한 원자로 수동정지[1]',\n",
       " '/home/taco/Documents/projects/paper_analysis/data/image/주발전기 모선측 변류기 단자 단선에 의한 원자로 정지[1]',\n",
       " '/home/taco/Documents/projects/paper_analysis/data/image/취수구에 새우떼 유입으로 순환수 펌프가 정지하면서 원자로정지[1]',\n",
       " '/home/taco/Documents/projects/paper_analysis/data/image/전자회로기판 고장에 의한 안전주입 발생 및 원자로 정지[1]',\n",
       " '/home/taco/Documents/projects/paper_analysis/data/image/취수구에 새우떼 유입으로 순환수 펌프가 정지하면서 원자로정지[1](1)',\n",
       " \"/home/taco/Documents/projects/paper_analysis/data/image/주증기 차단밸브 'A' 솔레노이드 소손으로 밸브가 닫혀 주증기관 압력 -저에 의해 안전주입 및 원자로 정지\",\n",
       " '/home/taco/Documents/projects/paper_analysis/data/image/울진1-20030603 한수원',\n",
       " '/home/taco/Documents/projects/paper_analysis/data/image/주증기 차단밸브 제어카드 고장에 의한 닫힘으로 원자로 및 터빈정지[1]']"
      ]
     },
     "execution_count": 11,
     "metadata": {},
     "output_type": "execute_result"
    }
   ],
   "source": [
    "img_list"
   ]
  },
  {
   "cell_type": "code",
   "execution_count": 6,
   "id": "7ad7ac6f",
   "metadata": {},
   "outputs": [
    {
     "name": "stdout",
     "output_type": "stream",
     "text": [
      "<class 'str'>\n"
     ]
    }
   ],
   "source": [
    "with open(\"/home/taco/Documents/projects/paper_analysis/data/txt/[고리4호기]증기발생기 'A' 수실 배수관의 배수밸브 용접부 누설부위 정비를 위한 원자로 수동정지/8.txt\", \"r\", encoding=\"utf-8\") as f: \n",
    "    content = f.read() \n",
    "    print(type(content))"
   ]
  },
  {
   "cell_type": "code",
   "execution_count": 7,
   "id": "7ec5468c",
   "metadata": {},
   "outputs": [
    {
     "data": {
      "text/plain": [
       "1083"
      ]
     },
     "execution_count": 7,
     "metadata": {},
     "output_type": "execute_result"
    }
   ],
   "source": [
    "len(content)"
   ]
  },
  {
   "cell_type": "code",
   "execution_count": 8,
   "id": "7429946a",
   "metadata": {},
   "outputs": [],
   "source": [
    "import kss "
   ]
  },
  {
   "cell_type": "code",
   "execution_count": 9,
   "id": "8212d635",
   "metadata": {},
   "outputs": [
    {
     "name": "stdout",
     "output_type": "stream",
     "text": [
      "['으로 검토한   결과   특이사항은   확인되지 않분   것으로   제시하여다.', 'X   원자로냉각재 총   비방사능(기체 +액체): 3,50E+02   Bqlg(제한치   2.02E+06Bq/g) 겪납건물 방사능 준위(Gas 기준) 최대 166x109 최소 0.18 pCilcc (경보치 8.40E-04 HCilcc) 현장 조사팀   평가결과 ,발전소   소내: 외   방사선   준위는   평상시   변동범위내로   유지되엇고   특이사항이   확 인되지 않아 금번  사건으로 인한 방사선영향은 미미한 것으로 판단한다', \"나:  작업자   피플관리원전운영자는 '17년 3월 27일부터 '18년 3월 27일까지   배수별부   누설부위   점검과 유지보수름  위해   격납건물에   출입한   작업자 140명에게   방사선작업관리   절차에 따라   특수방사선작업허가서클   발급하고 보건물리요원에   의해 해당지역   출입 통제가   수행된  것으로   제시하엿다\", \":'17년 기간   중 작업자   피독선량과   관련하여  원전 운영자는 금번   사건과   고리 2발   계획예방정비기간   중  수행된 작업올 기준으로 개인 최대 8.48 mSv의 연간선량올   평가한   결과흘   제시하여고, 동   작업자  중 고리2발전소v 제외한 타  원전   작업까지 포함하는   경우  개인   최대   피독선량이 10.02 mSv로  평가돈 것으로  제시하엿다:또한  '18년   수행님   작업에   대해서는 사건   후속조치로 증기발생기   배수   배관 에 대한   관막음\", '조치가   완료(18.3.27) 된 시점까지   작업자의 피폭선량올   평가 하여 제시하엿는데 , 보조선량계 축정값올   기준으로 개인 최대 1.70 mSv가 기록되없다.', '현장조사팀 검토결과 ,발전소의 소내 외   방사선  영향은 평상시   변동범위내로  유지되어   특이사항이   확인 되지 않앞으미, 작업자 피똑관리도   원자락안전법령에서 요구하는 연간   선랑한 도치(50 mSv/yr) 이내로   관리되어   적절한  것으로  판단하여다.3.1.2 원인분석   및  운전경험   반영3.1.2.1 사건   원인분석   및 평가가  원자로냉각재  누설 원인분석8']\n"
     ]
    }
   ],
   "source": [
    "sentences = kss.split_sentences(content) \n",
    "print(sentences)"
   ]
  },
  {
   "cell_type": "code",
   "execution_count": 14,
   "id": "54f589f3",
   "metadata": {},
   "outputs": [],
   "source": [
    "import pandas as pd \n",
    "from sentence_transformers import SentenceTransformer, util\n",
    "\n",
    "embedder = SentenceTransformer(\"jhgan/ko-sroberta-multitask\")\n",
    "df = pd.read_csv(\"/home/taco/Documents/projects/paper_analysis/data/preprocessed/[월성3호기]비상노심냉각계통 격리밸브 결빙관막음(freeze plug) 밀봉부를 통한 냉각재 누설 정비를 위한 원자로 수동정지.csv\")\n",
    "\n",
    "embedding = embedder.encode(df[\"문장\"], convert_to_tensor=True)"
   ]
  },
  {
   "cell_type": "code",
   "execution_count": 30,
   "id": "d289295b",
   "metadata": {},
   "outputs": [
    {
     "data": {
      "text/plain": [
       "(128,)"
      ]
     },
     "execution_count": 30,
     "metadata": {},
     "output_type": "execute_result"
    }
   ],
   "source": [
    "df[\"문장\"].shape"
   ]
  },
  {
   "cell_type": "code",
   "execution_count": 12,
   "id": "3e80fe3a",
   "metadata": {},
   "outputs": [],
   "source": [
    "DATA_ROOT = \"/home/taco/Documents/projects/paper_analysis/data\" \n",
    "import os\n",
    "\n",
    "historical_data = pd.read_excel(os.path.join(DATA_ROOT, \"Historical_data.xlsx\"))[\"오염문장\"]\n",
    "queries = historical_data.values.tolist() \n",
    "room_df = pd.read_excel(os.path.join(DATA_ROOT, \"Model_DB.xlsx\"), sheet_name=\"격실 DB\")\n",
    "instrument_df = pd.read_excel(os.path.join(DATA_ROOT, \"Model_DB.xlsx\"), sheet_name=\"기기 DB\")"
   ]
  },
  {
   "cell_type": "code",
   "execution_count": 33,
   "id": "305d02dd",
   "metadata": {},
   "outputs": [
    {
     "data": {
      "text/plain": [
       "(136,)"
      ]
     },
     "execution_count": 33,
     "metadata": {},
     "output_type": "execute_result"
    }
   ],
   "source": [
    "historical_data.shape"
   ]
  },
  {
   "cell_type": "code",
   "execution_count": 27,
   "id": "6f107ef8",
   "metadata": {},
   "outputs": [],
   "source": [
    "query_embedding = embedder.encode(historical_data, convert_to_tensor=True)\n",
    "cos_scores = util.pytorch_cos_sim(query_embedding, embedding)"
   ]
  },
  {
   "cell_type": "code",
   "execution_count": 22,
   "id": "a5e3c4cc",
   "metadata": {},
   "outputs": [
    {
     "data": {
      "text/plain": [
       "torch.Size([1, 128])"
      ]
     },
     "execution_count": 22,
     "metadata": {},
     "output_type": "execute_result"
    }
   ],
   "source": [
    "cos_scores.shape"
   ]
  },
  {
   "cell_type": "code",
   "execution_count": 26,
   "id": "7ee1cc88",
   "metadata": {},
   "outputs": [
    {
     "data": {
      "text/plain": [
       "tensor([0.5606, 0.6564, 0.5482, 0.6143, 0.5233, 0.5214, 0.5169, 0.6437, 0.5513,\n",
       "        0.4353, 0.5498, 0.5675, 0.4387, 0.2866, 0.3642, 0.1531, 0.4655, 0.5678,\n",
       "        0.6048, 0.5166, 0.4648, 0.3605, 0.6035, 0.5842, 0.5954, 0.5296, 0.5753,\n",
       "        0.5221, 0.4437, 0.4996, 0.5958, 0.5974, 0.2031, 0.4721, 0.4302, 0.0405,\n",
       "        0.6367, 0.4628, 0.3028, 0.5393, 0.1191, 0.5702, 0.4966, 0.2432, 0.2421,\n",
       "        0.4030, 0.2346, 0.4144, 0.3102, 0.5173, 0.3995, 0.2906, 0.4749, 0.2273,\n",
       "        0.4304, 0.2205, 0.3262, 0.2190, 0.4354, 0.5109, 0.3325, 0.4868, 0.3800,\n",
       "        0.2099, 0.3328, 0.2921, 0.3782, 0.5882, 0.5672, 0.3592, 0.4238, 0.5653,\n",
       "        0.5530, 0.5253, 0.4989, 0.2325, 0.4513, 0.4071, 0.1376, 0.4622, 0.3942,\n",
       "        0.4121, 0.3118, 0.4674, 0.4542, 0.4125, 0.1948, 0.1020, 0.3251, 0.2394,\n",
       "        0.3696, 0.3155, 0.3424, 0.4462, 0.0992, 0.5784, 0.4233, 0.0830, 0.4859,\n",
       "        0.4308, 0.3580, 0.3653, 0.2618, 0.4510, 0.3148, 0.0779, 0.3460, 0.3236,\n",
       "        0.4093, 0.3980, 0.3446, 0.5199, 0.4922, 0.3409, 0.4223, 0.3569, 0.1866,\n",
       "        0.2439, 0.6551, 0.5468, 0.5582, 0.4406, 0.6202, 0.5435, 0.4921, 0.3092,\n",
       "        0.1833, 0.3609], device='cuda:0')"
      ]
     },
     "execution_count": 26,
     "metadata": {},
     "output_type": "execute_result"
    }
   ],
   "source": [
    "cos_scores[0]"
   ]
  },
  {
   "cell_type": "code",
   "execution_count": 29,
   "id": "0a37f9e5",
   "metadata": {},
   "outputs": [
    {
     "data": {
      "text/plain": [
       "(136,)"
      ]
     },
     "execution_count": 29,
     "metadata": {},
     "output_type": "execute_result"
    }
   ],
   "source": [
    "historical_data.shape"
   ]
  },
  {
   "cell_type": "code",
   "execution_count": 23,
   "id": "b0eae382",
   "metadata": {},
   "outputs": [
    {
     "data": {
      "text/plain": [
       "torch.Size([768])"
      ]
     },
     "execution_count": 23,
     "metadata": {},
     "output_type": "execute_result"
    }
   ],
   "source": [
    "query_embedding.shape"
   ]
  },
  {
   "cell_type": "code",
   "execution_count": 24,
   "id": "146f75c0",
   "metadata": {},
   "outputs": [
    {
     "data": {
      "text/plain": [
       "torch.Size([128, 768])"
      ]
     },
     "execution_count": 24,
     "metadata": {},
     "output_type": "execute_result"
    }
   ],
   "source": [
    "embedding.shape"
   ]
  },
  {
   "cell_type": "code",
   "execution_count": null,
   "id": "5617132c",
   "metadata": {},
   "outputs": [
    {
     "data": {
      "text/plain": [
       "torch.Size([136, 128])"
      ]
     },
     "execution_count": 28,
     "metadata": {},
     "output_type": "execute_result"
    }
   ],
   "source": [
    "cos_scores.shape # quesries 와 embedding 사이의 cosine 유사도 "
   ]
  },
  {
   "cell_type": "code",
   "execution_count": 41,
   "id": "73c7e79b",
   "metadata": {},
   "outputs": [],
   "source": [
    "import numpy as np \n",
    "\n",
    "cos_scores = cos_scores.cpu()\n",
    "result = np.where(cos_scores > 0.65)\n"
   ]
  },
  {
   "cell_type": "code",
   "execution_count": 43,
   "id": "5852d59d",
   "metadata": {},
   "outputs": [
    {
     "data": {
      "text/plain": [
       "torch.Size([136, 128])"
      ]
     },
     "execution_count": 43,
     "metadata": {},
     "output_type": "execute_result"
    }
   ],
   "source": [
    "cos_scores.shape"
   ]
  },
  {
   "cell_type": "code",
   "execution_count": 47,
   "id": "33b0e472",
   "metadata": {},
   "outputs": [],
   "source": [
    "hist_index, input_index = np.where(cos_scores > 0.65) \n",
    "score_values = cos_scores[hist_index, input_index]\n",
    "df = pd.DataFrame({\n",
    "    \"hist_idx\": hist_index, \n",
    "    \"input_idx\": input_index, \n",
    "    \"cosine_score\": score_values \n",
    "})"
   ]
  },
  {
   "cell_type": "code",
   "execution_count": 3,
   "id": "cf69f2a1",
   "metadata": {},
   "outputs": [],
   "source": [
    "import pandas as pd \n",
    "import os \n",
    "\n",
    "\n",
    "DATA_ROOT = \"/home/taco/Documents/projects/paper_analysis/data\" \n",
    "\n",
    "historical_data = pd.read_excel(os.path.join(DATA_ROOT, \"Historical_data.xlsx\"))[\"오염문장\"].values\n",
    "room_df = pd.read_excel(os.path.join(DATA_ROOT, \"Model_DB.xlsx\"), sheet_name=\"격실 DB\")"
   ]
  },
  {
   "cell_type": "code",
   "execution_count": 10,
   "id": "e2e8dce4",
   "metadata": {},
   "outputs": [
    {
     "name": "stdout",
     "output_type": "stream",
     "text": [
      "nan\n",
      "R-501\n",
      "R-108\n",
      "nan\n",
      "nan\n",
      "nan\n",
      "nan\n"
     ]
    }
   ],
   "source": [
    "for idx, value in enumerate(room_df[\"격실번호\"]):\n",
    "    print(value)"
   ]
  },
  {
   "cell_type": "code",
   "execution_count": 14,
   "id": "f236b26d",
   "metadata": {},
   "outputs": [
    {
     "ename": "TypeError",
     "evalue": "expected string or bytes-like object",
     "output_type": "error",
     "traceback": [
      "\u001b[0;31m---------------------------------------------------------------------------\u001b[0m",
      "\u001b[0;31mTypeError\u001b[0m                                 Traceback (most recent call last)",
      "Cell \u001b[0;32mIn[14], line 3\u001b[0m\n\u001b[1;32m      1\u001b[0m instrument_df \u001b[38;5;241m=\u001b[39m pd\u001b[38;5;241m.\u001b[39mread_excel(os\u001b[38;5;241m.\u001b[39mpath\u001b[38;5;241m.\u001b[39mjoin(DATA_ROOT, \u001b[38;5;124m\"\u001b[39m\u001b[38;5;124mModel_DB.xlsx\u001b[39m\u001b[38;5;124m\"\u001b[39m), sheet_name\u001b[38;5;241m=\u001b[39m\u001b[38;5;124m\"\u001b[39m\u001b[38;5;124m기기 DB\u001b[39m\u001b[38;5;124m\"\u001b[39m)\n\u001b[0;32m----> 3\u001b[0m \u001b[43minstrument_df\u001b[49m\u001b[43m[\u001b[49m\u001b[38;5;124;43m\"\u001b[39;49m\u001b[38;5;124;43m기능위치명\u001b[39;49m\u001b[38;5;124;43m\"\u001b[39;49m\u001b[43m]\u001b[49m\u001b[38;5;241;43m.\u001b[39;49m\u001b[43mapply\u001b[49m\u001b[43m(\u001b[49m\u001b[43mto_lowercase\u001b[49m\u001b[43m)\u001b[49m\n",
      "File \u001b[0;32m~/anaconda3/envs/jung_clean/lib/python3.10/site-packages/pandas/core/series.py:4924\u001b[0m, in \u001b[0;36mSeries.apply\u001b[0;34m(self, func, convert_dtype, args, by_row, **kwargs)\u001b[0m\n\u001b[1;32m   4789\u001b[0m \u001b[38;5;28;01mdef\u001b[39;00m\u001b[38;5;250m \u001b[39m\u001b[38;5;21mapply\u001b[39m(\n\u001b[1;32m   4790\u001b[0m     \u001b[38;5;28mself\u001b[39m,\n\u001b[1;32m   4791\u001b[0m     func: AggFuncType,\n\u001b[0;32m   (...)\u001b[0m\n\u001b[1;32m   4796\u001b[0m     \u001b[38;5;241m*\u001b[39m\u001b[38;5;241m*\u001b[39mkwargs,\n\u001b[1;32m   4797\u001b[0m ) \u001b[38;5;241m-\u001b[39m\u001b[38;5;241m>\u001b[39m DataFrame \u001b[38;5;241m|\u001b[39m Series:\n\u001b[1;32m   4798\u001b[0m \u001b[38;5;250m    \u001b[39m\u001b[38;5;124;03m\"\"\"\u001b[39;00m\n\u001b[1;32m   4799\u001b[0m \u001b[38;5;124;03m    Invoke function on values of Series.\u001b[39;00m\n\u001b[1;32m   4800\u001b[0m \n\u001b[0;32m   (...)\u001b[0m\n\u001b[1;32m   4915\u001b[0m \u001b[38;5;124;03m    dtype: float64\u001b[39;00m\n\u001b[1;32m   4916\u001b[0m \u001b[38;5;124;03m    \"\"\"\u001b[39;00m\n\u001b[1;32m   4917\u001b[0m     \u001b[38;5;28;01mreturn\u001b[39;00m \u001b[43mSeriesApply\u001b[49m\u001b[43m(\u001b[49m\n\u001b[1;32m   4918\u001b[0m \u001b[43m        \u001b[49m\u001b[38;5;28;43mself\u001b[39;49m\u001b[43m,\u001b[49m\n\u001b[1;32m   4919\u001b[0m \u001b[43m        \u001b[49m\u001b[43mfunc\u001b[49m\u001b[43m,\u001b[49m\n\u001b[1;32m   4920\u001b[0m \u001b[43m        \u001b[49m\u001b[43mconvert_dtype\u001b[49m\u001b[38;5;241;43m=\u001b[39;49m\u001b[43mconvert_dtype\u001b[49m\u001b[43m,\u001b[49m\n\u001b[1;32m   4921\u001b[0m \u001b[43m        \u001b[49m\u001b[43mby_row\u001b[49m\u001b[38;5;241;43m=\u001b[39;49m\u001b[43mby_row\u001b[49m\u001b[43m,\u001b[49m\n\u001b[1;32m   4922\u001b[0m \u001b[43m        \u001b[49m\u001b[43margs\u001b[49m\u001b[38;5;241;43m=\u001b[39;49m\u001b[43margs\u001b[49m\u001b[43m,\u001b[49m\n\u001b[1;32m   4923\u001b[0m \u001b[43m        \u001b[49m\u001b[43mkwargs\u001b[49m\u001b[38;5;241;43m=\u001b[39;49m\u001b[43mkwargs\u001b[49m\u001b[43m,\u001b[49m\n\u001b[0;32m-> 4924\u001b[0m \u001b[43m    \u001b[49m\u001b[43m)\u001b[49m\u001b[38;5;241;43m.\u001b[39;49m\u001b[43mapply\u001b[49m\u001b[43m(\u001b[49m\u001b[43m)\u001b[49m\n",
      "File \u001b[0;32m~/anaconda3/envs/jung_clean/lib/python3.10/site-packages/pandas/core/apply.py:1427\u001b[0m, in \u001b[0;36mSeriesApply.apply\u001b[0;34m(self)\u001b[0m\n\u001b[1;32m   1424\u001b[0m     \u001b[38;5;28;01mreturn\u001b[39;00m \u001b[38;5;28mself\u001b[39m\u001b[38;5;241m.\u001b[39mapply_compat()\n\u001b[1;32m   1426\u001b[0m \u001b[38;5;66;03m# self.func is Callable\u001b[39;00m\n\u001b[0;32m-> 1427\u001b[0m \u001b[38;5;28;01mreturn\u001b[39;00m \u001b[38;5;28;43mself\u001b[39;49m\u001b[38;5;241;43m.\u001b[39;49m\u001b[43mapply_standard\u001b[49m\u001b[43m(\u001b[49m\u001b[43m)\u001b[49m\n",
      "File \u001b[0;32m~/anaconda3/envs/jung_clean/lib/python3.10/site-packages/pandas/core/apply.py:1507\u001b[0m, in \u001b[0;36mSeriesApply.apply_standard\u001b[0;34m(self)\u001b[0m\n\u001b[1;32m   1501\u001b[0m \u001b[38;5;66;03m# row-wise access\u001b[39;00m\n\u001b[1;32m   1502\u001b[0m \u001b[38;5;66;03m# apply doesn't have a `na_action` keyword and for backward compat reasons\u001b[39;00m\n\u001b[1;32m   1503\u001b[0m \u001b[38;5;66;03m# we need to give `na_action=\"ignore\"` for categorical data.\u001b[39;00m\n\u001b[1;32m   1504\u001b[0m \u001b[38;5;66;03m# TODO: remove the `na_action=\"ignore\"` when that default has been changed in\u001b[39;00m\n\u001b[1;32m   1505\u001b[0m \u001b[38;5;66;03m#  Categorical (GH51645).\u001b[39;00m\n\u001b[1;32m   1506\u001b[0m action \u001b[38;5;241m=\u001b[39m \u001b[38;5;124m\"\u001b[39m\u001b[38;5;124mignore\u001b[39m\u001b[38;5;124m\"\u001b[39m \u001b[38;5;28;01mif\u001b[39;00m \u001b[38;5;28misinstance\u001b[39m(obj\u001b[38;5;241m.\u001b[39mdtype, CategoricalDtype) \u001b[38;5;28;01melse\u001b[39;00m \u001b[38;5;28;01mNone\u001b[39;00m\n\u001b[0;32m-> 1507\u001b[0m mapped \u001b[38;5;241m=\u001b[39m \u001b[43mobj\u001b[49m\u001b[38;5;241;43m.\u001b[39;49m\u001b[43m_map_values\u001b[49m\u001b[43m(\u001b[49m\n\u001b[1;32m   1508\u001b[0m \u001b[43m    \u001b[49m\u001b[43mmapper\u001b[49m\u001b[38;5;241;43m=\u001b[39;49m\u001b[43mcurried\u001b[49m\u001b[43m,\u001b[49m\u001b[43m \u001b[49m\u001b[43mna_action\u001b[49m\u001b[38;5;241;43m=\u001b[39;49m\u001b[43maction\u001b[49m\u001b[43m,\u001b[49m\u001b[43m \u001b[49m\u001b[43mconvert\u001b[49m\u001b[38;5;241;43m=\u001b[39;49m\u001b[38;5;28;43mself\u001b[39;49m\u001b[38;5;241;43m.\u001b[39;49m\u001b[43mconvert_dtype\u001b[49m\n\u001b[1;32m   1509\u001b[0m \u001b[43m\u001b[49m\u001b[43m)\u001b[49m\n\u001b[1;32m   1511\u001b[0m \u001b[38;5;28;01mif\u001b[39;00m \u001b[38;5;28mlen\u001b[39m(mapped) \u001b[38;5;129;01mand\u001b[39;00m \u001b[38;5;28misinstance\u001b[39m(mapped[\u001b[38;5;241m0\u001b[39m], ABCSeries):\n\u001b[1;32m   1512\u001b[0m     \u001b[38;5;66;03m# GH#43986 Need to do list(mapped) in order to get treated as nested\u001b[39;00m\n\u001b[1;32m   1513\u001b[0m     \u001b[38;5;66;03m#  See also GH#25959 regarding EA support\u001b[39;00m\n\u001b[1;32m   1514\u001b[0m     \u001b[38;5;28;01mreturn\u001b[39;00m obj\u001b[38;5;241m.\u001b[39m_constructor_expanddim(\u001b[38;5;28mlist\u001b[39m(mapped), index\u001b[38;5;241m=\u001b[39mobj\u001b[38;5;241m.\u001b[39mindex)\n",
      "File \u001b[0;32m~/anaconda3/envs/jung_clean/lib/python3.10/site-packages/pandas/core/base.py:921\u001b[0m, in \u001b[0;36mIndexOpsMixin._map_values\u001b[0;34m(self, mapper, na_action, convert)\u001b[0m\n\u001b[1;32m    918\u001b[0m \u001b[38;5;28;01mif\u001b[39;00m \u001b[38;5;28misinstance\u001b[39m(arr, ExtensionArray):\n\u001b[1;32m    919\u001b[0m     \u001b[38;5;28;01mreturn\u001b[39;00m arr\u001b[38;5;241m.\u001b[39mmap(mapper, na_action\u001b[38;5;241m=\u001b[39mna_action)\n\u001b[0;32m--> 921\u001b[0m \u001b[38;5;28;01mreturn\u001b[39;00m \u001b[43malgorithms\u001b[49m\u001b[38;5;241;43m.\u001b[39;49m\u001b[43mmap_array\u001b[49m\u001b[43m(\u001b[49m\u001b[43marr\u001b[49m\u001b[43m,\u001b[49m\u001b[43m \u001b[49m\u001b[43mmapper\u001b[49m\u001b[43m,\u001b[49m\u001b[43m \u001b[49m\u001b[43mna_action\u001b[49m\u001b[38;5;241;43m=\u001b[39;49m\u001b[43mna_action\u001b[49m\u001b[43m,\u001b[49m\u001b[43m \u001b[49m\u001b[43mconvert\u001b[49m\u001b[38;5;241;43m=\u001b[39;49m\u001b[43mconvert\u001b[49m\u001b[43m)\u001b[49m\n",
      "File \u001b[0;32m~/anaconda3/envs/jung_clean/lib/python3.10/site-packages/pandas/core/algorithms.py:1743\u001b[0m, in \u001b[0;36mmap_array\u001b[0;34m(arr, mapper, na_action, convert)\u001b[0m\n\u001b[1;32m   1741\u001b[0m values \u001b[38;5;241m=\u001b[39m arr\u001b[38;5;241m.\u001b[39mastype(\u001b[38;5;28mobject\u001b[39m, copy\u001b[38;5;241m=\u001b[39m\u001b[38;5;28;01mFalse\u001b[39;00m)\n\u001b[1;32m   1742\u001b[0m \u001b[38;5;28;01mif\u001b[39;00m na_action \u001b[38;5;129;01mis\u001b[39;00m \u001b[38;5;28;01mNone\u001b[39;00m:\n\u001b[0;32m-> 1743\u001b[0m     \u001b[38;5;28;01mreturn\u001b[39;00m \u001b[43mlib\u001b[49m\u001b[38;5;241;43m.\u001b[39;49m\u001b[43mmap_infer\u001b[49m\u001b[43m(\u001b[49m\u001b[43mvalues\u001b[49m\u001b[43m,\u001b[49m\u001b[43m \u001b[49m\u001b[43mmapper\u001b[49m\u001b[43m,\u001b[49m\u001b[43m \u001b[49m\u001b[43mconvert\u001b[49m\u001b[38;5;241;43m=\u001b[39;49m\u001b[43mconvert\u001b[49m\u001b[43m)\u001b[49m\n\u001b[1;32m   1744\u001b[0m \u001b[38;5;28;01melse\u001b[39;00m:\n\u001b[1;32m   1745\u001b[0m     \u001b[38;5;28;01mreturn\u001b[39;00m lib\u001b[38;5;241m.\u001b[39mmap_infer_mask(\n\u001b[1;32m   1746\u001b[0m         values, mapper, mask\u001b[38;5;241m=\u001b[39misna(values)\u001b[38;5;241m.\u001b[39mview(np\u001b[38;5;241m.\u001b[39muint8), convert\u001b[38;5;241m=\u001b[39mconvert\n\u001b[1;32m   1747\u001b[0m     )\n",
      "File \u001b[0;32mlib.pyx:2972\u001b[0m, in \u001b[0;36mpandas._libs.lib.map_infer\u001b[0;34m()\u001b[0m\n",
      "Cell \u001b[0;32mIn[12], line 4\u001b[0m, in \u001b[0;36mto_lowercase\u001b[0;34m(text)\u001b[0m\n\u001b[1;32m      3\u001b[0m \u001b[38;5;28;01mdef\u001b[39;00m\u001b[38;5;250m \u001b[39m\u001b[38;5;21mto_lowercase\u001b[39m(text:\u001b[38;5;28mstr\u001b[39m): \n\u001b[0;32m----> 4\u001b[0m     \u001b[38;5;28;01mreturn\u001b[39;00m \u001b[43mre\u001b[49m\u001b[38;5;241;43m.\u001b[39;49m\u001b[43msub\u001b[49m\u001b[43m(\u001b[49m\u001b[38;5;124;43mr\u001b[39;49m\u001b[38;5;124;43m'\u001b[39;49m\u001b[38;5;124;43m[A-Za-z]+\u001b[39;49m\u001b[38;5;124;43m'\u001b[39;49m\u001b[43m,\u001b[49m\u001b[43m \u001b[49m\u001b[38;5;28;43;01mlambda\u001b[39;49;00m\u001b[43m \u001b[49m\u001b[43mx\u001b[49m\u001b[43m:\u001b[49m\u001b[43m \u001b[49m\u001b[43mx\u001b[49m\u001b[38;5;241;43m.\u001b[39;49m\u001b[43mgroup\u001b[49m\u001b[43m(\u001b[49m\u001b[43m)\u001b[49m\u001b[38;5;241;43m.\u001b[39;49m\u001b[43mlower\u001b[49m\u001b[43m(\u001b[49m\u001b[43m)\u001b[49m\u001b[43m,\u001b[49m\u001b[43m \u001b[49m\u001b[43mtext\u001b[49m\u001b[43m)\u001b[49m\n",
      "File \u001b[0;32m~/anaconda3/envs/jung_clean/lib/python3.10/re.py:209\u001b[0m, in \u001b[0;36msub\u001b[0;34m(pattern, repl, string, count, flags)\u001b[0m\n\u001b[1;32m    202\u001b[0m \u001b[38;5;28;01mdef\u001b[39;00m\u001b[38;5;250m \u001b[39m\u001b[38;5;21msub\u001b[39m(pattern, repl, string, count\u001b[38;5;241m=\u001b[39m\u001b[38;5;241m0\u001b[39m, flags\u001b[38;5;241m=\u001b[39m\u001b[38;5;241m0\u001b[39m):\n\u001b[1;32m    203\u001b[0m \u001b[38;5;250m    \u001b[39m\u001b[38;5;124;03m\"\"\"Return the string obtained by replacing the leftmost\u001b[39;00m\n\u001b[1;32m    204\u001b[0m \u001b[38;5;124;03m    non-overlapping occurrences of the pattern in string by the\u001b[39;00m\n\u001b[1;32m    205\u001b[0m \u001b[38;5;124;03m    replacement repl.  repl can be either a string or a callable;\u001b[39;00m\n\u001b[1;32m    206\u001b[0m \u001b[38;5;124;03m    if a string, backslash escapes in it are processed.  If it is\u001b[39;00m\n\u001b[1;32m    207\u001b[0m \u001b[38;5;124;03m    a callable, it's passed the Match object and must return\u001b[39;00m\n\u001b[1;32m    208\u001b[0m \u001b[38;5;124;03m    a replacement string to be used.\"\"\"\u001b[39;00m\n\u001b[0;32m--> 209\u001b[0m     \u001b[38;5;28;01mreturn\u001b[39;00m \u001b[43m_compile\u001b[49m\u001b[43m(\u001b[49m\u001b[43mpattern\u001b[49m\u001b[43m,\u001b[49m\u001b[43m \u001b[49m\u001b[43mflags\u001b[49m\u001b[43m)\u001b[49m\u001b[38;5;241;43m.\u001b[39;49m\u001b[43msub\u001b[49m\u001b[43m(\u001b[49m\u001b[43mrepl\u001b[49m\u001b[43m,\u001b[49m\u001b[43m \u001b[49m\u001b[43mstring\u001b[49m\u001b[43m,\u001b[49m\u001b[43m \u001b[49m\u001b[43mcount\u001b[49m\u001b[43m)\u001b[49m\n",
      "\u001b[0;31mTypeError\u001b[0m: expected string or bytes-like object"
     ]
    }
   ],
   "source": [
    "instrument_df = pd.read_excel(os.path.join(DATA_ROOT, \"Model_DB.xlsx\"), sheet_name=\"기기 DB\")\n",
    "\n",
    "instrument_df[\"기능위치명\"].apply(to_lowercase)"
   ]
  },
  {
   "cell_type": "code",
   "execution_count": 12,
   "id": "2c23f3d3",
   "metadata": {},
   "outputs": [
    {
     "ename": "TypeError",
     "evalue": "expected string or bytes-like object",
     "output_type": "error",
     "traceback": [
      "\u001b[0;31m---------------------------------------------------------------------------\u001b[0m",
      "\u001b[0;31mTypeError\u001b[0m                                 Traceback (most recent call last)",
      "Cell \u001b[0;32mIn[12], line 6\u001b[0m\n\u001b[1;32m      3\u001b[0m \u001b[38;5;28;01mdef\u001b[39;00m\u001b[38;5;250m \u001b[39m\u001b[38;5;21mto_lowercase\u001b[39m(text:\u001b[38;5;28mstr\u001b[39m): \n\u001b[1;32m      4\u001b[0m     \u001b[38;5;28;01mreturn\u001b[39;00m re\u001b[38;5;241m.\u001b[39msub(\u001b[38;5;124mr\u001b[39m\u001b[38;5;124m'\u001b[39m\u001b[38;5;124m[A-Za-z]+\u001b[39m\u001b[38;5;124m'\u001b[39m, \u001b[38;5;28;01mlambda\u001b[39;00m x: x\u001b[38;5;241m.\u001b[39mgroup()\u001b[38;5;241m.\u001b[39mlower(), text)\n\u001b[0;32m----> 6\u001b[0m \u001b[43mto_lowercase\u001b[49m\u001b[43m(\u001b[49m\u001b[43minstrument_df\u001b[49m\u001b[43m[\u001b[49m\u001b[38;5;124;43m\"\u001b[39;49m\u001b[38;5;124;43m기능위치명\u001b[39;49m\u001b[38;5;124;43m\"\u001b[39;49m\u001b[43m]\u001b[49m\u001b[43m)\u001b[49m\n",
      "Cell \u001b[0;32mIn[12], line 4\u001b[0m, in \u001b[0;36mto_lowercase\u001b[0;34m(text)\u001b[0m\n\u001b[1;32m      3\u001b[0m \u001b[38;5;28;01mdef\u001b[39;00m\u001b[38;5;250m \u001b[39m\u001b[38;5;21mto_lowercase\u001b[39m(text:\u001b[38;5;28mstr\u001b[39m): \n\u001b[0;32m----> 4\u001b[0m     \u001b[38;5;28;01mreturn\u001b[39;00m \u001b[43mre\u001b[49m\u001b[38;5;241;43m.\u001b[39;49m\u001b[43msub\u001b[49m\u001b[43m(\u001b[49m\u001b[38;5;124;43mr\u001b[39;49m\u001b[38;5;124;43m'\u001b[39;49m\u001b[38;5;124;43m[A-Za-z]+\u001b[39;49m\u001b[38;5;124;43m'\u001b[39;49m\u001b[43m,\u001b[49m\u001b[43m \u001b[49m\u001b[38;5;28;43;01mlambda\u001b[39;49;00m\u001b[43m \u001b[49m\u001b[43mx\u001b[49m\u001b[43m:\u001b[49m\u001b[43m \u001b[49m\u001b[43mx\u001b[49m\u001b[38;5;241;43m.\u001b[39;49m\u001b[43mgroup\u001b[49m\u001b[43m(\u001b[49m\u001b[43m)\u001b[49m\u001b[38;5;241;43m.\u001b[39;49m\u001b[43mlower\u001b[49m\u001b[43m(\u001b[49m\u001b[43m)\u001b[49m\u001b[43m,\u001b[49m\u001b[43m \u001b[49m\u001b[43mtext\u001b[49m\u001b[43m)\u001b[49m\n",
      "File \u001b[0;32m~/anaconda3/envs/jung_clean/lib/python3.10/re.py:209\u001b[0m, in \u001b[0;36msub\u001b[0;34m(pattern, repl, string, count, flags)\u001b[0m\n\u001b[1;32m    202\u001b[0m \u001b[38;5;28;01mdef\u001b[39;00m\u001b[38;5;250m \u001b[39m\u001b[38;5;21msub\u001b[39m(pattern, repl, string, count\u001b[38;5;241m=\u001b[39m\u001b[38;5;241m0\u001b[39m, flags\u001b[38;5;241m=\u001b[39m\u001b[38;5;241m0\u001b[39m):\n\u001b[1;32m    203\u001b[0m \u001b[38;5;250m    \u001b[39m\u001b[38;5;124;03m\"\"\"Return the string obtained by replacing the leftmost\u001b[39;00m\n\u001b[1;32m    204\u001b[0m \u001b[38;5;124;03m    non-overlapping occurrences of the pattern in string by the\u001b[39;00m\n\u001b[1;32m    205\u001b[0m \u001b[38;5;124;03m    replacement repl.  repl can be either a string or a callable;\u001b[39;00m\n\u001b[1;32m    206\u001b[0m \u001b[38;5;124;03m    if a string, backslash escapes in it are processed.  If it is\u001b[39;00m\n\u001b[1;32m    207\u001b[0m \u001b[38;5;124;03m    a callable, it's passed the Match object and must return\u001b[39;00m\n\u001b[1;32m    208\u001b[0m \u001b[38;5;124;03m    a replacement string to be used.\"\"\"\u001b[39;00m\n\u001b[0;32m--> 209\u001b[0m     \u001b[38;5;28;01mreturn\u001b[39;00m \u001b[43m_compile\u001b[49m\u001b[43m(\u001b[49m\u001b[43mpattern\u001b[49m\u001b[43m,\u001b[49m\u001b[43m \u001b[49m\u001b[43mflags\u001b[49m\u001b[43m)\u001b[49m\u001b[38;5;241;43m.\u001b[39;49m\u001b[43msub\u001b[49m\u001b[43m(\u001b[49m\u001b[43mrepl\u001b[49m\u001b[43m,\u001b[49m\u001b[43m \u001b[49m\u001b[43mstring\u001b[49m\u001b[43m,\u001b[49m\u001b[43m \u001b[49m\u001b[43mcount\u001b[49m\u001b[43m)\u001b[49m\n",
      "\u001b[0;31mTypeError\u001b[0m: expected string or bytes-like object"
     ]
    }
   ],
   "source": [
    "import re \n",
    "\n",
    "def to_lowercase(text:str): \n",
    "    return re.sub(r'[A-Za-z]+', lambda x: x.group().lower(), text)\n",
    "\n",
    "to_lowercase(instrument_df[\"기능위치명\"])"
   ]
  },
  {
   "cell_type": "code",
   "execution_count": 1,
   "id": "b20f42ac",
   "metadata": {},
   "outputs": [],
   "source": [
    "import pandas as pd "
   ]
  },
  {
   "cell_type": "code",
   "execution_count": 3,
   "id": "6050a8f1",
   "metadata": {},
   "outputs": [
    {
     "data": {
      "application/vnd.microsoft.datawrangler.viewer.v0+json": {
       "columns": [
        {
         "name": "index",
         "rawType": "int64",
         "type": "integer"
        },
        {
         "name": "Query",
         "rawType": "object",
         "type": "string"
        },
        {
         "name": "오염문장",
         "rawType": "object",
         "type": "string"
        },
        {
         "name": "score",
         "rawType": "float64",
         "type": "float"
        },
        {
         "name": "페이지",
         "rawType": "int64",
         "type": "integer"
        },
        {
         "name": "문장위치",
         "rawType": "int64",
         "type": "integer"
        },
        {
         "name": "격실번호",
         "rawType": "float64",
         "type": "float"
        },
        {
         "name": "영문명",
         "rawType": "float64",
         "type": "float"
        },
        {
         "name": "한글명",
         "rawType": "object",
         "type": "unknown"
        },
        {
         "name": "기능위치",
         "rawType": "object",
         "type": "unknown"
        },
        {
         "name": "기능위치명",
         "rawType": "object",
         "type": "unknown"
        },
        {
         "name": "설치룸",
         "rawType": "float64",
         "type": "float"
        }
       ],
       "conversionMethod": "pd.DataFrame",
       "ref": "d3675856-e609-4fed-be5c-21a0ce2aad7f",
       "rows": [
        [
         "0",
         "원전운영자는 3월 27일 오후부터 누설부위 확인을 위한 현장점검을 실시하여 증기발생기 ‘A‘ 하부에서 초당 1방울씩 떨어지는 누설을 확인하였다.",
         "원전운영자능 3월 27일 오후부터 누설부위 확인올 위한 현장점검올 실시하여 증기발생기 'A' 하부에서 초당 1방울씩 떨어지는 누설올 확인하엿다",
         "0.9716556",
         "7",
         "2",
         null,
         null,
         null,
         null,
         "증기발생기 C",
         null
        ],
        [
         "1",
         "중수누설 부위 결함원인은 R-107실 결함연료 판별계통의 190개 Sampling Line 중 \"W-11\" Channel의 1/4인치 S/S Tube의 Pinhole 발생이며 건설시 튜브 보호대책 미흡으로 동 튜브와 수직으로 교차하고 있는 동일재질의 3/8인치 Tube와의 진동에 의한 상호마찰과 장기간에 걸쳐 마모가 진행되어 Pinhole이 발생하였다.",
         "(Capping) 설계변경 원 설계 사(웨스템하우스) 검토결과와 근본원인 재발방지름 위해 배수관 제거 4) 고리3,4호기 유사부위 소컷용접부 비파과검사(PAUT 등) 확대점검 I 그룹 RCS 차단불가 2인치 이하 소구경 첫 번째 뱉브 소컷용접부 I그룹 RCS와 연결되어 유체흐름이 있는 모관이나 분기관으로서 고방사선구역 계통 운영 상 원자로 수동정지름 유발할 수 있는 2인치 이하 소구경 첫 번째 벌브 소컷 용접 부(RCP 밀봉수주입계 통 밀봉수회수계 통)소컷용접부 I_그룹(모든 소컷용접부) I 그룹(외팔보타입) 구분 결과 비고 검사 검사 PAUT PT VT PAUT PT VT 대상 대상 3호기 152 140 12 143 110 31 2 합격 PAUT 검사 불가 능한 개소는 4호기 153 140 13 150 123 27 0 합격 PT(VT) 수행5) 최근 10년간 보고사건 이행 적절성 점검 및 조치 보고대상 사건 14건(후속조치 158건) 에 대한 이행현황 전수점검 일부 미혼사항(사건 교훈반영 미혼 등)에 대해서 이행조치 완료 6) 설계: 형상 변경 시 진동 재평가 절차 수립 (본사 정비처) 표준정비-90345(설계변경관리) 표준절차서 개정'06년 고리4호기 SG 'B' 수실 배수별브 노즐 형상 설계변경에 따른 진동영향 평가 미혼과 '11년 고리4호기 SG 'A' 수실 배수배관 길이 조정시 설계 문서변경 검토 없이 이루어집에 따라 설계 .",
         "0.8204262",
         "15",
         "2",
         null,
         null,
         null,
         null,
         null,
         null
        ],
        [
         "2",
         "원자로의 제어봉이 고장으로 인해 원자로 출력이 감소하여 냉각되었다. 이에 따라 원자로냉각재계통의 압력이 하락하여 P-024 배관에서 누설이 발생하였다.",
         "의 소컷용접부에서 원자로냉각재가 누설되어 이의 정비 및 계획예방정비률 위해 원자로름 수동정지한 것이다",
         "0.8044126",
         "17",
         "1",
         null,
         null,
         null,
         null,
         null,
         null
        ],
        [
         "3",
         "원자로 출력 100%, 발전기 출력 690 MWe로 운전중 원자로 냉각재계통과 연결된 냉각재 시편감시계통(Autoclave Circuit System)의 배수밸브의 내부누설에 의해 중수급수펌프실 (D2O Feed Pump Room : R 403)에서의 Beetle 경보와 중수수집탱크 (D2O Collection Tank) 고수위 경보가 발생되고 원자로 냉각재의 압력경계외부로의 누출유량이 운영기술지침서 제한치를 초과함을 확인하여 1995년 9월 24일 01시 57분에 원자로를 수동정지하고 이어 01시 59분에 터빈발전기를 정지하였다.",
         "03.11~03.30정확한 누설부위(BB-V07O) 확인위해 격답건물 4차 출입 소외전원절체(UAT > SUT) 원자로 정지 및 고온대기 (운전모드 3) 상태 진입 원자로냉 각재계통 냉각 감압 착수 고온정지(운전모드 4) 상태 진입04:2205.1109:102017. 3. 29(수) 03.45 저온정지 (운전모드 5) 상태 진입2017. 4. 18(화) 10.15 연료재장전 (운전모드 6) 상태 진입3. 조사 결과 KINS 조사팀은 이 사건에 대해 다음 사항의 적절성올 검토하엿다",
         "0.80144775",
         "6",
         "1",
         null,
         null,
         "격납건물",
         "BB-V070",
         null,
         null
        ],
        [
         "4",
         "원자로 출력 100%, 발전기 출력 690 MWe로 운전중 원자로 냉각재계통과 연결된 냉각재 시편감시계통(Autoclave Circuit System)의 배수밸브의 내부누설에 의해 중수급수펌프실 (D2O Feed Pump Room : R 403)에서의 Beetle 경보와 중수수집탱크 (D2O Collection Tank) 고수위 경보가 발생되고 원자로 냉각재의 압력경계외부로의 누출유량이 운영기술지침서 제한치를 초과함을 확인하여 1995년 9월 24일 01시 57분에 원자로를 수동정지하고 이어 01시 59분에 터빈발전기를 정지하였다.",
         "원자로냉각재계통 평균온도 309.2 % 증기발생기(SG) 평균압력 65.8 kglcm?나: 시간대별 사건 경위2017. 3. 25(토) 22.00 경 격납건물 집수조 수위증가 인지 (일시적인 현상인지 지속적인 유입처가 있든지 관찰 필요한 것으로 일지에 기재I)1) 운영기술지침서 운전제한조건 3.4.13 원자로압력경계 누설 없음3",
         "0.7986818",
         "4",
         "6",
         null,
         null,
         "격납건물",
         null,
         "증기발생기 C",
         null
        ],
        [
         "5",
         "원자로건물내 삼중수소농도의 증가는 3. 3일 원자로건물내 A-side 분배관에서의 미량의 냉각재 누설로부터 기인되어 사전에 작업자의 방사선 안전관리를 위한 대책이 철저히 이루어진 것으로 판단됨.",
         ": 안전기술원은 동 결함부위틀 통해 원자로냉각재의 일부가 원자로 격납건물 내로 누설(총 누설량은 약 413.86 L로 평가) 된에 따른 방사선영향올 확인하기 위하여 격 남건물 방사선감시기 발전소 주변의 환경방사능감시기 작업자 피독량 등올 확인하 엿다 확인결과 원자로냉각재계 통의 방사능 농도가 상대적으로 낮앞고 격납건물",
         "0.79529405",
         "2",
         "7",
         null,
         null,
         "격납건물",
         null,
         null,
         null
        ],
        [
         "6",
         "원전운영자는 3월 27일 오후부터 누설부위 확인을 위한 현장점검을 실시하여 증기발생기 ‘A‘ 하부에서 초당 1방울씩 떨어지는 누설을 확인하였다.",
         "2017년 3월 27일(원) 23시 24분 경 정상운전 중인 고리원전 4호기의 증기발 생기 'A' 수실 배수관 배수백부(BB-V-070) 용접부에서 원자로냉각재 누설이 확 인덩에 따라 원전운영자는 누설차단 및 정비률 위해 3월 28일(화) 05시 11분 원자로틀 수동 정지하여다.",
         "0.7893884",
         "4",
         "2",
         null,
         null,
         null,
         "BB-V070",
         "증기발생기 C",
         null
        ],
        [
         "7",
         "원자로 출력 100%, 발전기 출력 690 MWe로 운전중 원자로 냉각재계통과 연결된 냉각재 시편감시계통(Autoclave Circuit System)의 배수밸브의 내부누설에 의해 중수급수펌프실 (D2O Feed Pump Room : R 403)에서의 Beetle 경보와 중수수집탱크 (D2O Collection Tank) 고수위 경보가 발생되고 원자로 냉각재의 압력경계외부로의 누출유량이 운영기술지침서 제한치를 초과함을 확인하여 1995년 9월 24일 01시 57분에 원자로를 수동정지하고 이어 01시 59분에 터빈발전기를 정지하였다.",
         "원전 사고 _ 고장 조사 보고서보고서 번호 제 목제2017-2호(170328) 증기발생기 'A' 수실 배수관의 배수별브 용접부 누설부위 정비틀 위한 원자로 수동정지 발생 호기 고리원전 4호기 발생 일시 2017년 3월 28일(화) 05시 11분 발전소 운전모9원자로 출력 운전모드 1(출력운전) / 100 % 정격열출력 원자로형 PWR(WIH) 3Loops 발전소출력 2,900 MWth /950 MWe 상업운전일 1986년 4월 29일사건 요약2017년 3월 27일 23시 24분경 정상운전 중인 고리원전 4호기의 증기발생기 'A' 즉 배수탤부(BB-V07O) 용접부-위에서 냉각재 누설이 확인되없다",
         "0.78810644",
         "2",
         "1",
         null,
         null,
         null,
         "BB-V070",
         "증기발생기 C",
         null
        ],
        [
         "8",
         "원자로 출력 100%, 발전기 출력 690 MWe로 운전중 원자로 냉각재계통과 연결된 냉각재 시편감시계통(Autoclave Circuit System)의 배수밸브의 내부누설에 의해 중수급수펌프실 (D2O Feed Pump Room : R 403)에서의 Beetle 경보와 중수수집탱크 (D2O Collection Tank) 고수위 경보가 발생되고 원자로 냉각재의 압력경계외부로의 누출유량이 운영기술지침서 제한치를 초과함을 확인하여 1995년 9월 24일 01시 57분에 원자로를 수동정지하고 이어 01시 59분에 터빈발전기를 정지하였다.",
         "[단기대책 완료] 1) 냉각재누설량 점검 및 평가절차 보완 개정(전 원전 전파 및 적용 중) 비정상-3431A(RCS 누설 개정04) , 정기-3431B(RCS 누설점검 개정0) 발전 지침-3431B-0-1(격납건물 내부 누설 점검지침 개정00) 격납건물 집수조 수위 방사능준위 , 습도 및 온도 중 1개 이상의 변수가 비정상적(정상 운전값 중 상시값올 초과하는 값)인 경우 즉시 원자로 냉각재 누설량올 평가하고 점검 수행하도록 절차 보완 2) 표준절차의 재발방지대책 프로세스 개선차\"자로냉자방송젊적 컷용전부중관현방올 승록 08무절방-관락 프로그램 이행(11.07) 2 계획예방정비시까지 운 중 원자로 냉각재 누설징후 확인시 대",
         "0.7855801",
         "14",
         "6",
         null,
         null,
         "격납건물",
         null,
         null,
         null
        ],
        [
         "9",
         "원자로 출력 100%, 발전기 출력 000 MWe로 운전중 원자로 냉각재계통과 연결된 냉각재 기기의 배수밸브의 내부누설에 의해 장소에서의 Beetle 경보와 기기 고수위 경보가 발생되고 원자로 냉각재의 압력경계외부로의 누출유량이 운영기술지침서 제한치를 초과함을 확인하여 0000년 0월 00일 00시 00분에 원자로를 수동정지하고 이어 00시 00분에 기기를 정지하였다.",
         ": 36시간원전운영자는 3월 27일 23.24분경 원자로 수동정지름 결정한 이후 정지계획에 따라 3월 28일 00:20분경에 원자로 수동 출럭감발에 착수하여 같은 날 04.22분 소외전원절 체(UAT-SUT) 및 05.11분에 원자로틀 수동 정지(고온대기, 운전모 드 3)하여다: 이후 발전소틀 냉각.",
         "0.78457797",
         "7",
         "9",
         null,
         null,
         null,
         null,
         null,
         null
        ],
        [
         "10",
         "원자로 출력 100%, 발전기 출력 690 MWe로 운전중 원자로 냉각재계통과 연결된 냉각재 시편감시계통(Autoclave Circuit System)의 배수밸브의 내부누설에 의해 중수급수펌프실 (D2O Feed Pump Room : R 403)에서의 Beetle 경보와 중수수집탱크 (D2O Collection Tank) 고수위 경보가 발생되고 원자로 냉각재의 압력경계외부로의 누출유량이 운영기술지침서 제한치를 초과함을 확인하여 1995년 9월 24일 01시 57분에 원자로를 수동정지하고 이어 01시 59분에 터빈발전기를 정지하였다.",
         "18.30 비정상-3431A (원자로냉각재계 통 누설)에 따른 점검(2차) 격납건물 내 습도 상승 확인 (14개소 중 1개소(ME2SH) , 53% 55%) IOOft에l 설치된 ME2SH에서 약 1049 증개그 외 습도계는 정상상태) 23.00 집수조 수위 증가율 확인(0.169 m?/day)2017. 3. 27(월) 0600 집수조 수위 증가율 확인(0.186 m? |",
         "0.7841915",
         "5",
         "2",
         null,
         null,
         "격납건물",
         null,
         null,
         null
        ],
        [
         "11",
         "Feeder Cabinet 'C' 지역 누설 확인 및 원자로 정지 후 보수를 결정",
         "daya)) 23.15 누설부 점검올 위한 격납건물 3차 출입 23.24 SG 하부 보온재 제거후 BB-070 부위에서 누설되 올 확인, 시료분석(2차) 결과확인 및 운영기술지침서 운전제한조건 3.4.13 적용 원자로 수동정지 결정 분석결과: 봉쇠92pmm; 액체방사능 농되154Bag; Co-5819 Bag X 운영기술지침서 운전제한조건 3.4.13 원자로압력경계 누설 없음2017. 3. 28(화) 00.20 원자로 수동 출렉감발 시작(감발울 2o%/hr)2) 경보설정치(경보-3010 원자로 제어감시반) 12 mlday 3) 허용기준치(정기-3431B, '원자로냉각재계통 누설량 평형점검') 0.567 m3 'Iday4",
         "0.7764959",
         "5",
         "5",
         null,
         null,
         "격납건물",
         "BB-V070",
         null,
         null
        ],
        [
         "12",
         "중수누설 부위 결함원인은 R-107실 결함연료 판별계통의 190개 Sampling Line 중 \"W-11\" Channel의 1/4인치 S/S Tube의 Pinhole 발생이며 건설시 튜브 보호대책 미흡으로 동 튜브와 수직으로 교차하고 있는 동일재질의 3/8인치 Tube와의 진동에 의한 상호마찰과 장기간에 걸쳐 마모가 진행되어 Pinhole이 발생하였다.",
         ":습기하생기 'A' 수선#실뱃습관 (BB Vo7o)<그림> 증기발생시 'A' 수실 배수관 결함부위<그림> 증기발생기 'A' 배수백부(BB-70) 절단면나 원자로냉각재 누설 원인평가원전 운영자는 앞 절에서 KAERI가 확인한 결함 및 분석결과와 원 설계사의 기술적 검토의견올 종합적으로 검토하여 SG 배수 노즐 재질변경에 따른 용접 부위 형상변경(06.03); 뱉부(BB-V07O) 교체(10.5) 및 배관길이 변경(11.9) 사랑이 기여원인으로 작용하여 약 5주기 동안 계통병입 후 원자로 출렉상승 시 진동 등 운전 중 발생하는 진동에 의한 영향으로 해당 소컷용접부에서 결함이 성장 ,4) PAUT Phase Array Ultrasonic Test 위상배열 초음파검사9",
         "0.7738183",
         "10",
         "2",
         null,
         null,
         null,
         "BB-V070",
         "증기발생기 C",
         null
        ],
        [
         "13",
         "Feeder Cabinet 'C' 지역 누설 확인 및 원자로 정지 후 보수를 결정",
         "23.15분 보온재 제거 후 누설부위 확인결과 , 증기발생기 'A' 수실 배수배관 용접부(BB-V07O)에서 누설이 확인덩에 따라 , 원전운영자는 압력경계누설로 판단하고 운영기술지침서 3.4.13항(원자로냉각재 계통 운전누설)의 운전제한 조건(원자로압력경계 누설 없음)올 적용하여 원자로 수동정지름 결정하없다.",
         "0.76786256",
         "7",
         "4",
         null,
         null,
         null,
         "BB-V070",
         "증기발생기 C",
         null
        ],
        [
         "14",
         "중수누설 부위 결함원인은 R-107실 결함연료 판별계통의 190개 Sampling Line 중 \"W-11\" Channel의 1/4인치 S/S Tube의 Pinhole 발생이며 건설시 튜브 보호대책 미흡으로 동 튜브와 수직으로 교차하고 있는 동일재질의 3/8인치 Tube와의 진동에 의한 상호마찰과 장기간에 걸쳐 마모가 진행되어 Pinhole이 발생하였다.",
         "현장조사팀이 SG 수실배관 정비이력 관련 자료 제2차 계획예방정비기간중 해당 배수탤브에서 실추되 진동 자료 검토와 면담올 통해 SG 수실 배수관 누설 원인올 검토한 결과 ,SG 'A' 배수 노족 형상변경 ( 06.03); 벌부(BB-V07O) 교체('10.5) 및 벌브간 배관 길 이변경(11.9) 등의 형상변경으로 진동에 취약할 우려가 있엇고 배관길이 변경 후 진동제어 관련 후속조치가 이루어지지 않아 5주기 동안의 진동피로가 누적 되어 소컷 용접부위에서 결합이 성장하엿다는 원전운영자의 평가는 타당한 것 으로 판단하여다:3.1.2.2 유사부위 확대점검금번 사건의 원인이 진동피로에 의한 것으로 파악되에 따라 , 현장조사팀은 벌부(BB-V07O)와 유사환경에 있는 뱉브에 대해 진동피로 현상이 있는지 확인 하기 위해 유사부위 소컷용접부름",
         "0.7667592",
         "11",
         "3",
         null,
         null,
         null,
         "BB-V070",
         "배수밸브",
         null
        ],
        [
         "15",
         "장소 누설 확인 및 원자로 정지 후 보수를 결정",
         ": 원전 운영자는 금번 사건의 재발방지률 위한 단기 조치로 1) 냉각재누설량 점 검 및 평가절차 보완 , 2) 표준절차의 재발방지대책 프로세스 개선 3) 증기발생기 수실 배수관 제거 및 관막음",
         "0.7642026",
         "3",
         "2",
         null,
         null,
         null,
         null,
         "증기발생기 C",
         null
        ],
        [
         "16",
         "원자로건물내 삼중수소농도의 증가는 3. 3일 원자로건물내 A-side 분배관에서의 미량의 냉각재 누설로부터 기인되어 사전에 작업자의 방사선 안전관리를 위한 대책이 철저히 이루어진 것으로 판단됨.",
         "현장조사팀 검토결과 ,발전소의 소내 외 방사선 영향은 평상시 변동범위내로 유지되어 특이사항이 확인 되지 않앞으미, 작업자 피똑관리도 원자락안전법령에서 요구하는 연간 선랑한 도치(50 mSv/yr) 이내로 관리되어 적절한 것으로 판단하여다.3.1.2 원인분석 및 운전경험 반영3.1.2.1 사건 원인분석 및 평가가 원자로냉각재 누설 원인분석8",
         "0.76226985",
         "9",
         "6",
         null,
         null,
         null,
         null,
         null,
         null
        ],
        [
         "17",
         "원자로 출력 100%, 발전기 출력 690 MWe로 운전중 원자로 냉각재계통과 연결된 냉각재 시편감시계통(Autoclave Circuit System)의 배수밸브의 내부누설에 의해 중수급수펌프실 (D2O Feed Pump Room : R 403)에서의 Beetle 경보와 중수수집탱크 (D2O Collection Tank) 고수위 경보가 발생되고 원자로 냉각재의 압력경계외부로의 누출유량이 운영기술지침서 제한치를 초과함을 확인하여 1995년 9월 24일 01시 57분에 원자로를 수동정지하고 이어 01시 59분에 터빈발전기를 정지하였다.",
         "원전운영자는 SG 'A' 수실 배수관 결함부위 확인올 위해 비파괴검사(PAUT4))와 파면분석(원자력연구원(KAERI) 수행)올 실시하여 수실 배수배관 벌부 용접부에 서 원주 방향 약 10 mm 깊이 약 6 m의 군열올 확인한 결과루 제시하엿다",
         "0.7598952",
         "10",
         "1",
         null,
         null,
         null,
         null,
         null,
         null
        ],
        [
         "18",
         "원자로건물내 삼중수소농도의 증가는 3. 3일 원자로건물내 A-side 분배관에서의 미량의 냉각재 누설로부터 기인되어 사전에 작업자의 방사선 안전관리를 위한 대책이 철저히 이루어진 것으로 판단됨.",
         "X 원자로냉각재 총 비방사능(기체 +액체): 3,50E+02 Bqlg(제한치 2.02E+06Bq/g) 겪납건물 방사능 준위(Gas 기준) 최대 166x109 최소 0.18 pCilcc (경보치 8.40E-04 HCilcc) 현장 조사팀 평가결과 ,발전소 소내: 외 방사선 준위는 평상시 변동범위내로 유지되엇고 특이사항이 확 인되지 않아 금번 사건으로 인한 방사선영향은 미미한 것으로 판단한다",
         "0.7562476",
         "9",
         "2",
         null,
         null,
         "격납건물",
         "K-04",
         null,
         null
        ],
        [
         "19",
         "중수누설 부위 결함원인은 R-107실 결함연료 판별계통의 190개 Sampling Line 중 \"W-11\" Channel의 1/4인치 S/S Tube의 Pinhole 발생이며 건설시 튜브 보호대책 미흡으로 동 튜브와 수직으로 교차하고 있는 동일재질의 3/8인치 Tube와의 진동에 의한 상호마찰과 장기간에 걸쳐 마모가 진행되어 Pinhole이 발생하였다.",
         "7) 타 원전(동일 노형) 수실 배수관 설계개선 '18.11월 고리#2( 18.04~09) 한빛#1(18.08~11), 한빛#2(18.07~10) SG 수실 배수관 설계변경 고리4호기와 같은 외팔보 (Cantilever) SG 수실 배수관올 제거 후 Capping 하고 계획 예방정비기간중(OH 중 수실 내 작업올 위해 잔류 냉각수는 이동형 필프로 배수하는 방 식으로 설비률 운영하는 것으로 설계변경서 작성 운영변경허가 신청 및 허가 취득 후 향후 도래하는 OH 기간 중 설계변경이 이루어지도록 추진 8) 원자로냉각재계통 소컷용접부 관리 표준지침 개발 및 장기가동중검사계 획에 반영하여 정기검사 수검항목으로 관리 '18.12 표준지침-4044-01(RCS 소구경배관 소컷용접부 관리) 지침서 개발 소컷용접부 관리대상 선정, 위험도 분류, 검사관리 , 후속조치 및 경험사례 관리 둥이 체계적으로 관리되도록 지침올 개발하고 외팔보타입 배관 검사관리 강화위해 검사방법올 UTIPT에서 PAUT로 일원화 하여 고진동배관은 진동저감 조치대상으로 선정 및 설계변 경 추진 원자로냉각재계통 장기가동중검사계 획서에 반영 표준지침-4044-O1(RCS 소구경배관 소컷용접부 관리) 개발 후 정기검사 수검항목으로 관리 되도록 장기가동중검 사계획서에 반영 9) 수동정지 유발가능한 원자로냉각재계 통 연결배관까지 소구경 소컷용접부 검사관리대상 확대 ~'20.06전 원전 이H기간 중 진동촉정 평가 위험도 분류 및 검사계 획 수립하고 소컷용접부 관리지침서 개정 후 장기가동중검사계 획에 반영 10) 안전등급 2인치 이하 소구경배관 지지대 설치요건 기술평가 및 확대점검: '20.12 동일노 형의 소구경배관 누설 예방올 위해 외팔보타입 소구경배관의 지지대 설치요건올 원 설계사름 통해 재평가하고 평가결과에 따라 확대 점검 실시5. 유사사건의 재발방지률 위한 대책없음6 결론이 사건은 발전소 전 출력운전 중 증기발생기 배수노즐 형상변경 및 배수관 길이변경에 따른 공진에 의한 진동피로 누적으로 증기발생기 'A' 수실 배수관15",
         "0.75153637",
         "16",
         "1",
         null,
         null,
         null,
         "K-04",
         "증기발생기 C",
         null
        ],
        [
         "20",
         "원전운영자는 3월 27일 오후부터 누설부위 확인을 위한 현장점검을 실시하여 증기발생기 ‘A‘ 하부에서 초당 1방울씩 떨어지는 누설을 확인하였다.",
         "3.1.1.2 원자로냉각재 총 누설량 평가원전운영자는 최초 운전원이 집수조 수위 증가 시점인 3월 25일 22시 00분부 터 RCS 압력이 25 kg/ cm까지 감소하여 누설이 중단된 3월 29일 11시 40분까지 의 기간(약 3.55일) 동안 원자로냉각재 총 누설량올 413.78 L로 분석하여 제 시하엿다",
         "0.7488531",
         "8",
         "3",
         null,
         null,
         null,
         null,
         null,
         null
        ],
        [
         "21",
         "원자로 출력 100%, 발전기 출력 690 MWe로 운전중 원자로 냉각재계통과 연결된 냉각재 시편감시계통(Autoclave Circuit System)의 배수밸브의 내부누설에 의해 중수급수펌프실 (D2O Feed Pump Room : R 403)에서의 Beetle 경보와 중수수집탱크 (D2O Collection Tank) 고수위 경보가 발생되고 원자로 냉각재의 압력경계외부로의 누출유량이 운영기술지침서 제한치를 초과함을 확인하여 1995년 9월 24일 01시 57분에 원자로를 수동정지하고 이어 01시 59분에 터빈발전기를 정지하였다.",
         "2017-2호(170327K4)원전 사고 고장 조사 보고서제목 : 고리 4호기 증기발생기 'A' 수실 배수관의 배수 벌브 용접부 누설부위 정비틀 위한 원자로 수동 정지 (사건발생일 ' 2017. 3. 28)2018. 4. 5KIIS한국원자력안전기술원",
         "0.7467265",
         "1",
         "1",
         null,
         null,
         null,
         null,
         "증기발생기 C",
         null
        ],
        [
         "22",
         "원자로건물내 삼중수소농도의 증가는 3. 3일 원자로건물내 A-side 분배관에서의 미량의 냉각재 누설로부터 기인되어 사전에 작업자의 방사선 안전관리를 위한 대책이 철저히 이루어진 것으로 판단됨.",
         ":3.1.1 누설확인 및 대응조치운전 및 대응 조치, @ 원자로냉각재 총 누설량 평가 @ 방사선 영향 평가3.1.2 원인분석 및 운전경험 반영사건 원인분석 및 평가 @ 유사부위 확대점검 (3' 유사사건 검토3.1 사건 전개과정 확인결과3.1.1 누설확인 및 대응조치3.1.1.1 운전 및 대응 조치 적절성2017년 3월 26일 11:25경 , 고리4호기 주제어실 운전원은 원자로격밥건물 집수조 수위증가울(약 4시간 주기로 점검)이 0.111 m? | day로 전일(3월 25일 22.00 분경) 확인원 증가율 (0.051 m? / day)에 비하여 약 2.2배 증가하엿음올 인지하엿다.이에 따라 원자로운영자는 누설부위틀 확인하기 위해 관련 비정상절차서(비 정상-3431A, ' 원자로냉각재계 통(RCS) 누설') 틀 적용하여 겪납건물 내부 주요 변수(온도 습도 및 방사능) 및 원자로냉각재편프 밀봉수 점검 등올 수행하없고 정기절차서(정기-3431B, '원자로냉각재계 통 누설률 평형점검') 틀 수행하여 누설률올 점검하엿다 점검결과 정상상태 대비 주요변수의 변화가 없어 원전5",
         "0.74448407",
         "6",
         "2",
         null,
         null,
         "격납건물",
         null,
         null,
         null
        ],
        [
         "23",
         "Feeder Cabinet 'C' 지역 누설 확인 및 원자로 정지 후 보수를 결정",
         "설계변경, 4) 고리3,4호기 유사부위 소컷용접부 비파 과검사 확대점검 5) 최근 10년간 보고사건 이행 적절성 점검 및 조치 6) 설계 형 상 변경시 진동 재평가 절차 수립올 완료하엿다 장기대책으로 1) 타 원전(동일 노 형) 수실 배수관 설계개선 2) 원자로냉각재계통 소컷용접부 관리 표준지침 개발 및 장기가동중검사계 획에 반영하여 정기검사 수검항목으로 관리, 3) 수동정지 유 발 가능한 원자로냉각재계 통 연결배관까지 소구경 소컷용접부 검사관리 대상 확 대, 4) 안전등급 2인치 이하 소구경배관 지지대 설치요건 기술평가와 확대점검 등의 방 안을 제시하엿다",
         "0.7410987",
         "3",
         "3",
         null,
         null,
         null,
         null,
         null,
         null
        ],
        [
         "24",
         "원자로 출력 100%, 발전기 출력 690 MWe로 운전중 원자로 냉각재계통과 연결된 냉각재 시편감시계통(Autoclave Circuit System)의 배수밸브의 내부누설에 의해 중수급수펌프실 (D2O Feed Pump Room : R 403)에서의 Beetle 경보와 중수수집탱크 (D2O Collection Tank) 고수위 경보가 발생되고 원자로 냉각재의 압력경계외부로의 누출유량이 운영기술지침서 제한치를 초과함을 확인하여 1995년 9월 24일 01시 57분에 원자로를 수동정지하고 이어 01시 59분에 터빈발전기를 정지하였다.",
         "2 사건 경위가 사건 전 발전소 운전상태원자로열출력 100 % 발전기출력 1,002 MWe 원자로냉각재계 통압력 157 kgl cm?",
         "0.73515505",
         "4",
         "5",
         null,
         null,
         null,
         null,
         null,
         null
        ],
        [
         "25",
         "원자로건물내 삼중수소농도의 증가는 3. 3일 원자로건물내 A-side 분배관에서의 미량의 냉각재 누설로부터 기인되어 사전에 작업자의 방사선 안전관리를 위한 대책이 철저히 이루어진 것으로 판단됨.",
         "이틀 기준으로 총 누설량은 413.86 L로 평가되에 따라 원전운영자가 제시한 총 누설량은 타당한 것으로 판단한다.3.1.1.3 방사선 영향 평가가 소내: 외 방사선영향 평가원전운영자는 3월 25일부터 3월 29일까지 원자로냉각재의 방사능농도 격습 건물 방사능 준위 및 발전소 주변 환경방사능감시기의 방사능 준위변화틀 종합적",
         "0.73416543",
         "8",
         "7",
         null,
         null,
         null,
         null,
         null,
         null
        ],
        [
         "26",
         "중수누설 부위 결함원인은 R-107실 결함연료 판별계통의 190개 Sampling Line 중 \"W-11\" Channel의 1/4인치 S/S Tube의 Pinhole 발생이며 건설시 튜브 보호대책 미흡으로 동 튜브와 수직으로 교차하고 있는 동일재질의 3/8인치 Tube와의 진동에 의한 상호마찰과 장기간에 걸쳐 마모가 진행되어 Pinhole이 발생하였다.",
         "검토들 위해 최근 10년 고리?발 전소에서 발생된 사건에 대한 후속조치 이행 적절성 점검올 수행하엿다.가 사건 발생원인 비교 및 후속조치 이행 적절성 검토'O8년 6월 6일 고리3 호기 SG 'B' 수실 배수백부(BB-073) 소컷용접부 진동피로와 용접부위 용입불량으로 벌부 용접부위에서 결함이 발생하여 냉각재가 누설 되없다 균열길이는 약 18~20 II, 폭 3~4 mm이떠 이번 군월길이의 약 2배인 것 으로 확인되없다:'08년 6월에 발생한 고리 3호기 SG 'B'의 배수별보 누설은 진동피로와 용접부 위 용입불랑이 원인인 것으로 파악되없으나 금번 발생하 고리 4호기 SG 'A의 배수백브는 용접불량이 아난 고주기8) 진동피로와 공진에 의해 발생한 것으로 분석되없다:결함확인결함미확인마리고리3호기 SG '3' 수실 배수관 용전부 프면검사( 08.06)고리4호기 SG 'A' 수실 배수관 응전부 프면검사(17.03)~용입불량 관통결함 방향용입불량 없음 배관 관통결함 방향배관응접부용접부벌브벌브고리3호기 SG 'B' 수실 배수관 응전부 파단면C 0800)고리4호기 SG 'A' 수실 배수관 응전부 파단련( 17,03)'08.6월 사건에 대한 재발방지틀 위한 후속조치 요구사항은 4가지9이역: 원전8) 고주기(high cycle) 하중 104 회 이상의 반복하중이 발생되는 경우 이틀 고추기 피로로 표현 9) 1 유사부위(2인치 이하 안전등급 소구경배관)에 대한 목록작성 전수검사 및 결과보고12",
         "0.73226917",
         "13",
         "1",
         null,
         null,
         null,
         "BB-V070",
         "배수밸브",
         null
        ],
        [
         "27",
         "중수누설 부위 결함원인은 R-107실 결함연료 판별계통의 190개 Sampling Line 중 \"W-11\" Channel의 1/4인치 S/S Tube의 Pinhole 발생이며 건설시 튜브 보호대책 미흡으로 동 튜브와 수직으로 교차하고 있는 동일재질의 3/8인치 Tube와의 진동에 의한 상호마찰과 장기간에 걸쳐 마모가 진행되어 Pinhole이 발생하였다.",
         "[그룹 1] 정상운전중 압력경계름 이루면서 냉각재 누설시 차단 불가능한 2 인치 이하 소컷용접부로 첫 번째 차단별브까지의 소컷용접부대상개소 : 고리3호기 152개소 고리4호기 153개소 (총 305개소) 점검결과 총 305개소(3 호기 152개소 4호기 153개소)률 PAUT와 PT7)로 전수 용접부위 건전성올 점검한 결과 , 가입기 하부 압력전송기 라인 원자로헤드 배기라인 등의 용접 부위에서 지시(용입불량) 4개소(3/ 4호기 1/3개소)률 발견하여 해당 부위는 정비계 획서클 작성하고 금번 정지기간 중 수행한 계획예방정비기간 중에 보수| 교체 완료하여 건전성올 확인 함[그룹 2] RCs와 연결코 봉산수함유 계통 중 고방사선구역으로 접근불가 또는 정상운전 중 계통운영 상 격리 불가한 별브까지의 소컷용접부대상개소 고리3호기 143개소 고리4호기 150개소 (총 293개소)점검결과 소컷용접부 총 293개소(3 호기 143개소 4호기 150개소)틀 PAUT와 PT로 전수 용접 부위 건전성올 점검한 결과 RCP B 밀봉주 입수 라인 등의 용접부위에서 지시(용-입불량) 2개소(3/ 4호기 1/1개소) 발견하엿으며 해당 부위는 정비계 획서클 작성하여 계획예방정비기간 중에 보수 / 교체록 완료하여 건전성올 확인하엿다.",
         "0.7317799",
         "12",
         "2",
         null,
         null,
         null,
         "BB-V062",
         "차단밸브",
         null
        ],
        [
         "28",
         "‘00.0.0일, 원자력발전소 제00차 계획예방정비중 수행된 BAC 검사 과정에서 장소에 설치된 기기에서 관통결함에 의한 붕산석출을 확인하였다.",
         "day) 18.07~19.15 누설부 점검올 위한 격납건물 2차 출입 시료채취 종료(약 110 ml) 및 시료분석 의리 19.50 시료분석(1차) 결과확인 및 2차 시료분석 의회 분석결과: 봉소(93Oppm); 액체방사5(162 Ba/ g); Co-58(14Ba/ g) X 정상상태 RCS: 봉소(472 ppm; 액체방사능(198 Bqlg) Co-58(38 Bqlg) 23.00 원자로냉각재누설량 평형점검 결과 , 미량 증가확인(0.148 m?l day > 0230 m?|",
         "0.7286028",
         "5",
         "4",
         null,
         null,
         "격납건물",
         null,
         null,
         null
        ],
        [
         "29",
         "원자로 출력 100%, 발전기 출력 690 MWe로 운전중 원자로 냉각재계통과 연결된 냉각재 시편감시계통(Autoclave Circuit System)의 배수밸브의 내부누설에 의해 중수급수펌프실 (D2O Feed Pump Room : R 403)에서의 Beetle 경보와 중수수집탱크 (D2O Collection Tank) 고수위 경보가 발생되고 원자로 냉각재의 압력경계외부로의 누출유량이 운영기술지침서 제한치를 초과함을 확인하여 1995년 9월 24일 01시 57분에 원자로를 수동정지하고 이어 01시 59분에 터빈발전기를 정지하였다.",
         "day) 14:32~15.50 누설부 점검올 위한 격납건물 1차 출입 > SG 'A' 하부에서 초당 1방울 누설 확인(시료채취 시작) 17.00 격납건물 집수조 수위 증가율 확인(0.206 m? |",
         "0.72859776",
         "5",
         "3",
         null,
         null,
         "격납건물",
         null,
         null,
         null
        ],
        [
         "30",
         "장소 누설 확인 및 원자로 정지 후 보수를 결정",
         ":원전운영자는 금번 손상 부위틀 제24차 계획예방정비기간중에 교체한 후 비파괴검사름 통해 용접부위의 결함올 확인하엿고 원 설계사의 검토의견올 반영 하여 재발방지대책 방안으로 근본원인올 제거하기 위해 증기발생기 수실 배수관 관막음올 채택하엿다",
         "0.7266729",
         "17",
         "2",
         null,
         null,
         null,
         null,
         "증기발생기 C",
         null
        ],
        [
         "31",
         "원전운영자는 3월 27일 오후부터 누설부위 확인을 위한 현장점검을 실시하여 증기발생기 ‘A‘ 하부에서 초당 1방울씩 떨어지는 누설을 확인하였다.",
         ":현장조사팀 평가결과 ,원전운영자가 제시한 총 누설량 평가방법이 VCT(체적제어탤크)의 수위 변화울에 따르지 않고 격납건물내 집수조의 수위증가율로 계산하엿논데 , 이는 3월 27일 05시경 발전소가 봉산회석 운전올 수행 중이어서 VCT 수위변동의 추가적인 요인이 있엇기 때문에 적절한 것으로 판단한다.",
         "0.72078407",
         "8",
         "4",
         null,
         null,
         "격납건물",
         "VCT",
         "체적제어탱크",
         null
        ],
        [
         "32",
         "증기발생기와 연결된 접합부의 이상으로 인하여 경보가 발생하여 이를 확인한 결과 P-023 배관에서 누설이 있음을 확인했다.",
         "2. 미확인 누설 0.227 m3/hr(1 gpm) 3. 확인 누설 2.27 m3hr(Io gpm) 4. 어느 한 증기발생기의 1차;에서 2차속으로의 누설 0.567 mlday (150 gpd): 불만족상태 조치요구사항 제한시간 2.1 운전모드 3으로 간다",
         "0.7191822",
         "7",
         "7",
         null,
         null,
         null,
         null,
         "증기발생기 C",
         null
        ],
        [
         "33",
         "원자로 출력 100%, 발전기 출력 690 MWe로 운전중 원자로 냉각재계통과 연결된 냉각재 시편감시계통(Autoclave Circuit System)의 배수밸브의 내부누설에 의해 중수급수펌프실 (D2O Feed Pump Room : R 403)에서의 Beetle 경보와 중수수집탱크 (D2O Collection Tank) 고수위 경보가 발생되고 원자로 냉각재의 압력경계외부로의 누출유량이 운영기술지침서 제한치를 초과함을 확인하여 1995년 9월 24일 01시 57분에 원자로를 수동정지하고 이어 01시 59분에 터빈발전기를 정지하였다.",
         "또한 원자로운전원의 운전일지와 원자로 출력 가입기 압력 및 수위, 증기발생기의 압력 및 수위 등의 운전변수름 통해 주요계통과 기기의 운전변수가 적절하게 거동하엿는지 검토한 결과 출럭 감발 중 가입기 및 증기 발생기의 압력과 수위 등 주요계통과 기기의 운전변수는 설계범위에서 유지 되엇음올 확인하엿다.",
         "0.7166331",
         "8",
         "2",
         null,
         null,
         null,
         null,
         "증기발생기 C",
         null
        ],
        [
         "34",
         "‘16.3.4일, 한울 3호기 제13차 계획예방정비중 수행된 BAC 검사 과정에서 고온관(42˝)에 설치된 시료채취노즐(3/4˝) 연결부에서 관통결함에 의한 붕산석출을 확인하였다.",
         "원전운영자의 점검내용올 검토한 결과 현장조사팀은 유사부워에 대해 PAUT로 지시가 발견원 총 4개의 소컷용접부(그룹1: 3개소 그룹2: 1개소)에 대해 뱉부(BB-V07O)와 유사한 진동피로 현상이 있는지 파면 검사흘 수행한 결과 모두 진동피로가 아난 용입 불량으로 파악 되없음올 확인 하여다.3.1.2.3 유사사건 검토'08년 6월 고리3 호기에서도 유사한 사건(SG 'B' 에서 원자로냉각재누설)이 발생 되없음에 따라 현장조사팀은 당시 파악편 결함원인과의 비교 및 후속조치 이행 적절성올 검토하여고 고리2발전소의 사건 운전경험반영 프로세스의 적절성7) PT Penetration test 침투담상검사11",
         "0.7165",
         "12",
         "3",
         null,
         null,
         null,
         "BB-V070",
         null,
         null
        ],
        [
         "35",
         "Feeder Cabinet 'C' 지역 누설 확인 및 원자로 정지 후 보수를 결정",
         "이에 따라 원전운영자는 ASME SecXI Div.1 IWX(KEPIC MIX, 가동중검사)의 요건에 따라 2인치이하 배관과 별브는 가동중검사 면제대상이긴 하나 , 안전성올 확보하고 신회성올 증진시키기 위해 안전등급 2인치 이하 유사부위 소컷용접 부의 건전성이 유지되논지 다음과 같이 두 그룹으로 구분하여 확대5) NRC Information Notice 2005-02 Pressure Boundary Leakage Identified on Steam Generator Bowl Drain Welds 6) BechtellO-P-ZZ-0O9), Design Guide for Supporting Seismic Category and Non-Seismic Category Small Piping 2-inch and under)10",
         "0.7115426",
         "11",
         "5",
         null,
         null,
         null,
         "FTAM",
         null,
         null
        ],
        [
         "36",
         "원자로 출력 100%, 발전기 출력 690 MWe로 운전중 원자로 냉각재계통과 연결된 냉각재 시편감시계통(Autoclave Circuit System)의 배수밸브의 내부누설에 의해 중수급수펌프실 (D2O Feed Pump Room : R 403)에서의 Beetle 경보와 중수수집탱크 (D2O Collection Tank) 고수위 경보가 발생되고 원자로 냉각재의 압력경계외부로의 누출유량이 운영기술지침서 제한치를 초과함을 확인하여 1995년 9월 24일 01시 57분에 원자로를 수동정지하고 이어 01시 59분에 터빈발전기를 정지하였다.",
         "2017. 3 26(일) 11:25경 집수조 수위증가율 변화 확인(0.060 > 0.166 m3 3 | day2)) 12.00 비정상-3431A (원자로냉각재계통 누설)에 따른 점검(1차) RCS 누설률, 방사능준위 , 온도 습도 확인: 변화 없음",
         "0.7110386",
         "5",
         "1",
         null,
         null,
         null,
         null,
         null,
         null
        ],
        [
         "37",
         "장소 누설 확인 및 원자로 정지 후 보수를 결정",
         ": 원전운영자는 운영 기술지침서 운전제한조건(3.4.13) 및 불만족시 조치요구사항에 따라 원자로흘 정 지시키고 저온정지(운전모드 5) 운전상태로 전환하여다.",
         "0.7104728",
         "2",
         "2",
         null,
         null,
         null,
         null,
         null,
         null
        ],
        [
         "38",
         "Feeder Cabinet 'C' 지역 누설 확인 및 원자로 정지 후 보수를 결정",
         "운영자는 요구사항올 이행하기 위해 '11년 5월 경수로형 원전 16기1(고리1 호기 부터 한율6 호기까지) 틀 대상으로 원자로냉각재계 통 압력경계내 소컷용접부 관리방안(한수원 설비(설)75710-643/ 11.5.16) 올 수립하여 안전등급 소구경배관 소컷용접부 개소에 대해 6 주기 동안 비파괴검사흘 진행해 오고 있음올 확인 하여다.",
         "0.70741236",
         "14",
         "1",
         null,
         null,
         null,
         null,
         null,
         null
        ],
        [
         "39",
         "중수누설 부위 결함원인은 R-107실 결함연료 판별계통의 190개 Sampling Line 중 \"W-11\" Channel의 1/4인치 S/S Tube의 Pinhole 발생이며 건설시 튜브 보호대책 미흡으로 동 튜브와 수직으로 교차하고 있는 동일재질의 3/8인치 Tube와의 진동에 의한 상호마찰과 장기간에 걸쳐 마모가 진행되어 Pinhole이 발생하였다.",
         "1) 원전운영자는 '04년 9월 미국 Catawba 원전 2호기 운전경험5 올 반영하 여 증기발생기 배수관 재질올 응력부식균열에 강한 Alloy 690(기존 Alloy 600) 재질로 변경하없고 2) 제20차(11.9) 계획예방정비기간 중 벌브간의 배 관길이틀 변경(기존 47.6cm에서 53.7cm) 하여는데, 이 과정에서 설계지찮6에 따른 진동 저감올 위한 기술적 평가가 미롭하엿으며 3) 배관길이 변경 후 '11년 10월 출렉상승중 SG A 배수관 진동올 즉정한 결과 원자로출력 80% 에서 고 진동(최대 81.5mm/s)이 발생하는 것으로 확인하엿으나 관련 후속조 치가 미혼햇단 것으로 제시하엿다.",
         "0.704189",
         "11",
         "2",
         null,
         null,
         null,
         null,
         "증기발생기 C",
         null
        ],
        [
         "40",
         "장소 누설 확인 및 원자로 정지 후 보수를 결정",
         "서의 운전제한조건인 압력경계누설로 판단하여 원자로정지름 결정하고 제한시간 이내에 원자로 정지 및 냉각: 감압울 수행한 원전운영자의 조치사항은 적절하 것으로 평가한다",
         "0.7037929",
         "8",
         "1",
         null,
         null,
         null,
         null,
         null,
         null
        ],
        [
         "41",
         "원자로 출력 100%, 발전기 출력 690 MWe로 운전중 원자로 냉각재계통과 연결된 냉각재 시편감시계통(Autoclave Circuit System)의 배수밸브의 내부누설에 의해 중수급수펌프실 (D2O Feed Pump Room : R 403)에서의 Beetle 경보와 중수수집탱크 (D2O Collection Tank) 고수위 경보가 발생되고 원자로 냉각재의 압력경계외부로의 누출유량이 운영기술지침서 제한치를 초과함을 확인하여 1995년 9월 24일 01시 57분에 원자로를 수동정지하고 이어 01시 59분에 터빈발전기를 정지하였다.",
         "금번 사건처럼 아주 미량의 냉각수 누설은 집수조의 수위 변화보다 주변의 습도가 먼저 반응하므로 SG A 부근에 설치되어 있는 습도계 (ME25B , ME2SH)틀 기준으로 3월 25일 18시 20분경부터 최초 누설이 시작된 것으로 판단하엿다.",
         "0.6986851",
         "8",
         "6",
         null,
         null,
         null,
         null,
         null,
         null
        ],
        [
         "42",
         "원전운영자는 0월 00일 오후부터 누설부위 확인을 위한 현장점검을 실시하여 기기 하부에서 누설을 확인하였다.",
         "안전기술원은 사건의 원인 및 영향과 원전운영자 조치 등의 적절성올 확인하기 위하여 현장조사흘 수행하엿다.",
         "0.69604295",
         "2",
         "3",
         null,
         null,
         null,
         null,
         null,
         null
        ],
        [
         "43",
         "중수누설 부위 결함원인은 장소 결함연료 기기의 000개 Sampling Line 중 기기의 Pinhole 발생이며 건설시 튜브 보호대책 미흡으로 동 튜브와 수직으로 교차하고 있는 동일재질의 0/0인치 Tube와의 진동에 의한 상호마찰과 장기간에 걸쳐 마모가 진행되어 Pinhole이 발생하였다.",
         "배수관 고유진동수 변경은 2006년 3월 증기 발생기 배수노즐 재질 변경(인코델 600 계엽에서 인코널 690 계엽로의 변경) 시의 배수노즐 설치 형상 변경과 2010년 5월 배수별부 교체시 배수관 길이 조정으로 인 한 것으로 확인되없다",
         "0.6909625",
         "2",
         "6",
         null,
         null,
         null,
         null,
         "증기발생기 C",
         null
        ],
        [
         "44",
         "원전운영자는 0월 00일 오후부터 누설부위 확인을 위한 현장점검을 실시하여 기기 하부에서 누설을 확인하였다.",
         "은 적없으나 비정상절차서(비정상 ~3431A, 원자로냉각재계통 누설에 따른 누설부위틀 점검한 사항과 운영기술지침6",
         "0.68309724",
         "7",
         "11",
         null,
         null,
         null,
         null,
         null,
         null
        ],
        [
         "45",
         "원자로 출력 100%, 발전기 출력 690 MWe로 운전중 원자로 냉각재계통과 연결된 냉각재 시편감시계통(Autoclave Circuit System)의 배수밸브의 내부누설에 의해 중수급수펌프실 (D2O Feed Pump Room : R 403)에서의 Beetle 경보와 중수수집탱크 (D2O Collection Tank) 고수위 경보가 발생되고 원자로 냉각재의 압력경계외부로의 누출유량이 운영기술지침서 제한치를 초과함을 확인하여 1995년 9월 24일 01시 57분에 원자로를 수동정지하고 이어 01시 59분에 터빈발전기를 정지하였다.",
         "감압하여 최종적으로 3월 29일 03.45분에 저온정지(운전모드 5) 상태로 진입하여다현장 조사팀 평가결과 , 경보치(12 m/day)보다 냉각재누설량 (0.111 m? | day)",
         "0.67859066",
         "7",
         "10",
         null,
         null,
         null,
         null,
         null,
         null
        ],
        [
         "46",
         "계획예방정비기간중 감속재펌프 분해작업 과정에서 약 50리터의 중수가 누설되어 작업자가 방사선에 노출됨.",
         ":'17년 기간 중 작업자 피독선량과 관련하여 원전 운영자는 금번 사건과 고리 2발 계획예방정비기간 중 수행된 작업올 기준으로 개인 최대 8.48 mSv의 연간선량올 평가한 결과흘 제시하여고, 동 작업자 중 고리2발전소v 제외한 타 원전 작업까지 포함하는 경우 개인 최대 피독선량이 10.02 mSv로 평가돈 것으로 제시하엿다:또한 '18년 수행님 작업에 대해서는 사건 후속조치로 증기발생기 배수 배관 에 대한 관막음",
         "0.6754304",
         "9",
         "4",
         null,
         null,
         null,
         null,
         "증기발생기 C",
         null
        ],
        [
         "47",
         "증기발생기와 연결된 접합부의 이상으로 인하여 경보가 발생하여 이를 확인한 결과 P-023 배관에서 누설이 있음을 확인했다.",
         "누설이 발생딩 것으로 분석하엿다.",
         "0.67037046",
         "11",
         "1",
         null,
         null,
         null,
         null,
         null,
         null
        ],
        [
         "48",
         "원자로 출력 100%, 발전기 출력 000 MWe로 운전중 원자로 냉각재계통과 연결된 냉각재 기기의 배수밸브의 내부누설에 의해 장소에서의 Beetle 경보와 기기 고수위 경보가 발생되고 원자로 냉각재의 압력경계외부로의 누출유량이 운영기술지침서 제한치를 초과함을 확인하여 0000년 0월 00일 00시 00분에 원자로를 수동정지하고 이어 00시 00분에 기기를 정지하였다.",
         "이 사건은 원자락안전위원회고시 제2017-10 회(원자로 19) 별표 3.1항 \" 원자로정지\" , 3.3항 \" 운영기술지침서의 운전제한조건1) 불만족에 따른 출v감발\" 별표 3.5항 \"원자로냉각재 압력경계에서 관통결함이 발견되없거나 누설이 확인된 경우\" 에 해당하는 사항으로 원자력안전위원회 회의 운영에 관한 규칙 제7조안건의 구분 등) 별표2(원자로 정지 및 재가동 관련 심의 의결 및 보고사항) 제2항의 @ \" 운영 기술지침서의 조치요구사항에 따라 원자로틀 정지한 경우\" 에 따른 위원회 심의 의결사항이다",
         "0.6666281",
         "4",
         "3",
         null,
         null,
         null,
         "E-10",
         null,
         null
        ],
        [
         "49",
         "Feeder Cabinet 'C' 지역 누설 확인 및 원자로 정지 후 보수를 결정",
         "[운영기술지침서 3.4.13 원자로냉각재계통 운전누설] 운전제한조건 3.4.13 원자로냉각재계통 운전누설은 다음과 같이 제한되다",
         "0.666443",
         "7",
         "5",
         null,
         null,
         null,
         null,
         null,
         null
        ]
       ],
       "shape": {
        "columns": 11,
        "rows": 79
       }
      },
      "text/html": [
       "<div>\n",
       "<style scoped>\n",
       "    .dataframe tbody tr th:only-of-type {\n",
       "        vertical-align: middle;\n",
       "    }\n",
       "\n",
       "    .dataframe tbody tr th {\n",
       "        vertical-align: top;\n",
       "    }\n",
       "\n",
       "    .dataframe thead th {\n",
       "        text-align: right;\n",
       "    }\n",
       "</style>\n",
       "<table border=\"1\" class=\"dataframe\">\n",
       "  <thead>\n",
       "    <tr style=\"text-align: right;\">\n",
       "      <th></th>\n",
       "      <th>Query</th>\n",
       "      <th>오염문장</th>\n",
       "      <th>score</th>\n",
       "      <th>페이지</th>\n",
       "      <th>문장위치</th>\n",
       "      <th>격실번호</th>\n",
       "      <th>영문명</th>\n",
       "      <th>한글명</th>\n",
       "      <th>기능위치</th>\n",
       "      <th>기능위치명</th>\n",
       "      <th>설치룸</th>\n",
       "    </tr>\n",
       "  </thead>\n",
       "  <tbody>\n",
       "    <tr>\n",
       "      <th>0</th>\n",
       "      <td>원전운영자는 3월 27일 오후부터 누설부위 확인을 위한 현장점검을 실시하여 증기발생...</td>\n",
       "      <td>원전운영자능 3월 27일 오후부터 누설부위 확인올 위한 현장점검올 실시하여 증기발생...</td>\n",
       "      <td>0.971656</td>\n",
       "      <td>7</td>\n",
       "      <td>2</td>\n",
       "      <td>NaN</td>\n",
       "      <td>NaN</td>\n",
       "      <td>NaN</td>\n",
       "      <td>NaN</td>\n",
       "      <td>증기발생기 C</td>\n",
       "      <td>NaN</td>\n",
       "    </tr>\n",
       "    <tr>\n",
       "      <th>1</th>\n",
       "      <td>중수누설 부위 결함원인은 R-107실 결함연료 판별계통의 190개 Sampling ...</td>\n",
       "      <td>(Capping) 설계변경 원 설계 사(웨스템하우스) 검토결과와 근본원인 재발방지름...</td>\n",
       "      <td>0.820426</td>\n",
       "      <td>15</td>\n",
       "      <td>2</td>\n",
       "      <td>NaN</td>\n",
       "      <td>NaN</td>\n",
       "      <td>NaN</td>\n",
       "      <td>NaN</td>\n",
       "      <td>NaN</td>\n",
       "      <td>NaN</td>\n",
       "    </tr>\n",
       "    <tr>\n",
       "      <th>2</th>\n",
       "      <td>원자로의 제어봉이 고장으로 인해 원자로 출력이 감소하여 냉각되었다. 이에 따라 원자...</td>\n",
       "      <td>의 소컷용접부에서 원자로냉각재가 누설되어 이의 정비 및 계획예방정비률 위해 원자로름...</td>\n",
       "      <td>0.804413</td>\n",
       "      <td>17</td>\n",
       "      <td>1</td>\n",
       "      <td>NaN</td>\n",
       "      <td>NaN</td>\n",
       "      <td>NaN</td>\n",
       "      <td>NaN</td>\n",
       "      <td>NaN</td>\n",
       "      <td>NaN</td>\n",
       "    </tr>\n",
       "    <tr>\n",
       "      <th>3</th>\n",
       "      <td>원자로 출력 100%, 발전기 출력 690 MWe로 운전중 원자로 냉각재계통과 연결...</td>\n",
       "      <td>03.11~03.30정확한 누설부위(BB-V07O) 확인위해 격답건물 4차 출입 소...</td>\n",
       "      <td>0.801448</td>\n",
       "      <td>6</td>\n",
       "      <td>1</td>\n",
       "      <td>NaN</td>\n",
       "      <td>NaN</td>\n",
       "      <td>격납건물</td>\n",
       "      <td>BB-V070</td>\n",
       "      <td>NaN</td>\n",
       "      <td>NaN</td>\n",
       "    </tr>\n",
       "    <tr>\n",
       "      <th>4</th>\n",
       "      <td>원자로 출력 100%, 발전기 출력 690 MWe로 운전중 원자로 냉각재계통과 연결...</td>\n",
       "      <td>원자로냉각재계통 평균온도 309.2 % 증기발생기(SG) 평균압력 65.8 kglc...</td>\n",
       "      <td>0.798682</td>\n",
       "      <td>4</td>\n",
       "      <td>6</td>\n",
       "      <td>NaN</td>\n",
       "      <td>NaN</td>\n",
       "      <td>격납건물</td>\n",
       "      <td>NaN</td>\n",
       "      <td>증기발생기 C</td>\n",
       "      <td>NaN</td>\n",
       "    </tr>\n",
       "    <tr>\n",
       "      <th>...</th>\n",
       "      <td>...</td>\n",
       "      <td>...</td>\n",
       "      <td>...</td>\n",
       "      <td>...</td>\n",
       "      <td>...</td>\n",
       "      <td>...</td>\n",
       "      <td>...</td>\n",
       "      <td>...</td>\n",
       "      <td>...</td>\n",
       "      <td>...</td>\n",
       "      <td>...</td>\n",
       "    </tr>\n",
       "    <tr>\n",
       "      <th>74</th>\n",
       "      <td>장소 누설 확인 및 원자로 정지 후 보수를 결정</td>\n",
       "      <td>: 이에 대해 검토한 결과 동일 사건의 재발방지름 위한 조치사항 및 방안은 파악든 ...</td>\n",
       "      <td>0.376982</td>\n",
       "      <td>3</td>\n",
       "      <td>4</td>\n",
       "      <td>NaN</td>\n",
       "      <td>NaN</td>\n",
       "      <td>NaN</td>\n",
       "      <td>NaN</td>\n",
       "      <td>NaN</td>\n",
       "      <td>NaN</td>\n",
       "    </tr>\n",
       "    <tr>\n",
       "      <th>75</th>\n",
       "      <td>기기 주변의 사건 전후 0일간(‘00. 0. 00, 00, 00일) 표면오염도 측정...</td>\n",
       "      <td>으로 검토한 결과 특이사항은 확인되지 않분 것으로 제시하여다.</td>\n",
       "      <td>0.370119</td>\n",
       "      <td>9</td>\n",
       "      <td>1</td>\n",
       "      <td>NaN</td>\n",
       "      <td>NaN</td>\n",
       "      <td>NaN</td>\n",
       "      <td>NaN</td>\n",
       "      <td>NaN</td>\n",
       "      <td>NaN</td>\n",
       "    </tr>\n",
       "    <tr>\n",
       "      <th>76</th>\n",
       "      <td>증기발생기와 연결된 접합부의 이상으로 인하여 경보가 발생하여 이를 확인한 결과 P-...</td>\n",
       "      <td>1 개요</td>\n",
       "      <td>0.320150</td>\n",
       "      <td>4</td>\n",
       "      <td>1</td>\n",
       "      <td>NaN</td>\n",
       "      <td>NaN</td>\n",
       "      <td>NaN</td>\n",
       "      <td>NaN</td>\n",
       "      <td>NaN</td>\n",
       "      <td>NaN</td>\n",
       "    </tr>\n",
       "    <tr>\n",
       "      <th>77</th>\n",
       "      <td>냉각재정화계통배관 중수누설위치</td>\n",
       "      <td>:16</td>\n",
       "      <td>0.317498</td>\n",
       "      <td>17</td>\n",
       "      <td>6</td>\n",
       "      <td>NaN</td>\n",
       "      <td>NaN</td>\n",
       "      <td>NaN</td>\n",
       "      <td>NaN</td>\n",
       "      <td>NaN</td>\n",
       "      <td>NaN</td>\n",
       "    </tr>\n",
       "    <tr>\n",
       "      <th>78</th>\n",
       "      <td>잔열제거열교환기실(룸번호: 088-S05)를 제염한 기록이 있으며, 해당 격실의 오...</td>\n",
       "      <td>그룹별로 분류 선정하여 체계적인 이행과 관리록 수행하도록 요구하엿다.</td>\n",
       "      <td>0.293313</td>\n",
       "      <td>11</td>\n",
       "      <td>4</td>\n",
       "      <td>NaN</td>\n",
       "      <td>NaN</td>\n",
       "      <td>NaN</td>\n",
       "      <td>NaN</td>\n",
       "      <td>NaN</td>\n",
       "      <td>NaN</td>\n",
       "    </tr>\n",
       "  </tbody>\n",
       "</table>\n",
       "<p>79 rows × 11 columns</p>\n",
       "</div>"
      ],
      "text/plain": [
       "                                                Query  \\\n",
       "0   원전운영자는 3월 27일 오후부터 누설부위 확인을 위한 현장점검을 실시하여 증기발생...   \n",
       "1   중수누설 부위 결함원인은 R-107실 결함연료 판별계통의 190개 Sampling ...   \n",
       "2   원자로의 제어봉이 고장으로 인해 원자로 출력이 감소하여 냉각되었다. 이에 따라 원자...   \n",
       "3   원자로 출력 100%, 발전기 출력 690 MWe로 운전중 원자로 냉각재계통과 연결...   \n",
       "4   원자로 출력 100%, 발전기 출력 690 MWe로 운전중 원자로 냉각재계통과 연결...   \n",
       "..                                                ...   \n",
       "74                         장소 누설 확인 및 원자로 정지 후 보수를 결정   \n",
       "75  기기 주변의 사건 전후 0일간(‘00. 0. 00, 00, 00일) 표면오염도 측정...   \n",
       "76  증기발생기와 연결된 접합부의 이상으로 인하여 경보가 발생하여 이를 확인한 결과 P-...   \n",
       "77                                   냉각재정화계통배관 중수누설위치   \n",
       "78  잔열제거열교환기실(룸번호: 088-S05)를 제염한 기록이 있으며, 해당 격실의 오...   \n",
       "\n",
       "                                                 오염문장     score  페이지  문장위치  \\\n",
       "0   원전운영자능 3월 27일 오후부터 누설부위 확인올 위한 현장점검올 실시하여 증기발생...  0.971656    7     2   \n",
       "1   (Capping) 설계변경 원 설계 사(웨스템하우스) 검토결과와 근본원인 재발방지름...  0.820426   15     2   \n",
       "2   의 소컷용접부에서 원자로냉각재가 누설되어 이의 정비 및 계획예방정비률 위해 원자로름...  0.804413   17     1   \n",
       "3   03.11~03.30정확한 누설부위(BB-V07O) 확인위해 격답건물 4차 출입 소...  0.801448    6     1   \n",
       "4   원자로냉각재계통 평균온도 309.2 % 증기발생기(SG) 평균압력 65.8 kglc...  0.798682    4     6   \n",
       "..                                                ...       ...  ...   ...   \n",
       "74  : 이에 대해 검토한 결과 동일 사건의 재발방지름 위한 조치사항 및 방안은 파악든 ...  0.376982    3     4   \n",
       "75                 으로 검토한 결과 특이사항은 확인되지 않분 것으로 제시하여다.  0.370119    9     1   \n",
       "76                                               1 개요  0.320150    4     1   \n",
       "77                                                :16  0.317498   17     6   \n",
       "78             그룹별로 분류 선정하여 체계적인 이행과 관리록 수행하도록 요구하엿다.  0.293313   11     4   \n",
       "\n",
       "    격실번호  영문명   한글명     기능위치    기능위치명  설치룸  \n",
       "0    NaN  NaN   NaN      NaN  증기발생기 C  NaN  \n",
       "1    NaN  NaN   NaN      NaN      NaN  NaN  \n",
       "2    NaN  NaN   NaN      NaN      NaN  NaN  \n",
       "3    NaN  NaN  격납건물  BB-V070      NaN  NaN  \n",
       "4    NaN  NaN  격납건물      NaN  증기발생기 C  NaN  \n",
       "..   ...  ...   ...      ...      ...  ...  \n",
       "74   NaN  NaN   NaN      NaN      NaN  NaN  \n",
       "75   NaN  NaN   NaN      NaN      NaN  NaN  \n",
       "76   NaN  NaN   NaN      NaN      NaN  NaN  \n",
       "77   NaN  NaN   NaN      NaN      NaN  NaN  \n",
       "78   NaN  NaN   NaN      NaN      NaN  NaN  \n",
       "\n",
       "[79 rows x 11 columns]"
      ]
     },
     "execution_count": 3,
     "metadata": {},
     "output_type": "execute_result"
    }
   ],
   "source": [
    "temp = pd.read_csv(\"/home/taco/Documents/projects/paper_analysis/res2/final/[고리4호기]증기발생기 'A' 수실 배수관의 배수밸브 용접부 누설부위 정비를 위한 원자로 수동정지.csv\", index_col=0) \n",
    "temp"
   ]
  },
  {
   "cell_type": "code",
   "execution_count": 5,
   "id": "f96306f8",
   "metadata": {},
   "outputs": [
    {
     "name": "stdout",
     "output_type": "stream",
     "text": [
      "[nan '격납건물']\n",
      "[nan 'BB-V070' 'K-04' 'BB-V062' 'VCT' 'FTAM' 'E-10']\n",
      "['증기발생기 C' nan '배수밸브' '차단밸브' '체적제어탱크']\n",
      "[nan]\n"
     ]
    }
   ],
   "source": [
    "print(temp[\"한글명\"].unique())\n",
    "print(temp[\"기능위치\"].unique())\n",
    "print(temp[\"기능위치명\"].unique())\n",
    "print(temp[\"설치룸\"].unique())"
   ]
  },
  {
   "cell_type": "code",
   "execution_count": 23,
   "id": "40aa0d98",
   "metadata": {},
   "outputs": [
    {
     "name": "stderr",
     "output_type": "stream",
     "text": [
      "/tmp/ipykernel_17327/619446795.py:6: FutureWarning: The behavior of array concatenation with empty entries is deprecated. In a future version, this will no longer exclude empty items when determining the result dtype. To retain the old behavior, exclude the empty entries before the concat operation.\n",
      "  file = pd.concat(files)\n",
      "/tmp/ipykernel_17327/619446795.py:6: FutureWarning: The behavior of DataFrame concatenation with empty or all-NA entries is deprecated. In a future version, this will no longer exclude empty or all-NA columns when determining the result dtypes. To retain the old behavior, exclude the relevant entries before the concat operation.\n",
      "  file = pd.concat(files)\n"
     ]
    },
    {
     "data": {
      "application/vnd.microsoft.datawrangler.viewer.v0+json": {
       "columns": [
        {
         "name": "index",
         "rawType": "int64",
         "type": "integer"
        },
        {
         "name": "Query",
         "rawType": "object",
         "type": "string"
        },
        {
         "name": "오염문장",
         "rawType": "object",
         "type": "string"
        },
        {
         "name": "score",
         "rawType": "float64",
         "type": "float"
        },
        {
         "name": "페이지",
         "rawType": "object",
         "type": "unknown"
        },
        {
         "name": "문장위치",
         "rawType": "object",
         "type": "unknown"
        },
        {
         "name": "격실번호",
         "rawType": "object",
         "type": "unknown"
        },
        {
         "name": "영문명",
         "rawType": "object",
         "type": "unknown"
        },
        {
         "name": "한글명",
         "rawType": "object",
         "type": "unknown"
        },
        {
         "name": "기능위치",
         "rawType": "object",
         "type": "unknown"
        },
        {
         "name": "기능위치명",
         "rawType": "object",
         "type": "unknown"
        },
        {
         "name": "설치룸",
         "rawType": "object",
         "type": "unknown"
        }
       ],
       "conversionMethod": "pd.DataFrame",
       "ref": "cb165e5f-4ab4-4e25-a39e-7f145173753d",
       "rows": [
        [
         "0",
         "원전운영자는 3월 27일 오후부터 누설부위 확인을 위한 현장점검을 실시하여 증기발생기 ‘A‘ 하부에서 초당 1방울씩 떨어지는 누설을 확인하였다.",
         "원전운영자능 3월 27일 오후부터 누설부위 확인올 위한 현장점검올 실시하여 증기발생기 'A' 하부에서 초당 1방울씩 떨어지는 누설올 확인하엿다",
         "0.9716556",
         "7",
         "2",
         null,
         null,
         null,
         null,
         null,
         null
        ]
       ],
       "shape": {
        "columns": 11,
        "rows": 1
       }
      },
      "text/html": [
       "<div>\n",
       "<style scoped>\n",
       "    .dataframe tbody tr th:only-of-type {\n",
       "        vertical-align: middle;\n",
       "    }\n",
       "\n",
       "    .dataframe tbody tr th {\n",
       "        vertical-align: top;\n",
       "    }\n",
       "\n",
       "    .dataframe thead th {\n",
       "        text-align: right;\n",
       "    }\n",
       "</style>\n",
       "<table border=\"1\" class=\"dataframe\">\n",
       "  <thead>\n",
       "    <tr style=\"text-align: right;\">\n",
       "      <th></th>\n",
       "      <th>Query</th>\n",
       "      <th>오염문장</th>\n",
       "      <th>score</th>\n",
       "      <th>페이지</th>\n",
       "      <th>문장위치</th>\n",
       "      <th>격실번호</th>\n",
       "      <th>영문명</th>\n",
       "      <th>한글명</th>\n",
       "      <th>기능위치</th>\n",
       "      <th>기능위치명</th>\n",
       "      <th>설치룸</th>\n",
       "    </tr>\n",
       "  </thead>\n",
       "  <tbody>\n",
       "    <tr>\n",
       "      <th>0</th>\n",
       "      <td>원전운영자는 3월 27일 오후부터 누설부위 확인을 위한 현장점검을 실시하여 증기발생...</td>\n",
       "      <td>원전운영자능 3월 27일 오후부터 누설부위 확인올 위한 현장점검올 실시하여 증기발생...</td>\n",
       "      <td>0.971656</td>\n",
       "      <td>7</td>\n",
       "      <td>2</td>\n",
       "      <td>NaN</td>\n",
       "      <td>NaN</td>\n",
       "      <td>NaN</td>\n",
       "      <td>NaN</td>\n",
       "      <td>NaN</td>\n",
       "      <td>NaN</td>\n",
       "    </tr>\n",
       "  </tbody>\n",
       "</table>\n",
       "</div>"
      ],
      "text/plain": [
       "                                               Query  \\\n",
       "0  원전운영자는 3월 27일 오후부터 누설부위 확인을 위한 현장점검을 실시하여 증기발생...   \n",
       "\n",
       "                                                오염문장     score 페이지 문장위치 격실번호  \\\n",
       "0  원전운영자능 3월 27일 오후부터 누설부위 확인올 위한 현장점검올 실시하여 증기발생...  0.971656   7    2  NaN   \n",
       "\n",
       "   영문명  한글명 기능위치 기능위치명  설치룸  \n",
       "0  NaN  NaN  NaN   NaN  NaN  "
      ]
     },
     "execution_count": 23,
     "metadata": {},
     "output_type": "execute_result"
    }
   ],
   "source": [
    "import glob \n",
    "import pandas as pd \n",
    "\n",
    "file_list = glob.glob(\"/home/taco/Documents/projects/paper_analysis/cosine90/final/*.csv\")\n",
    "files = [pd.read_csv(file, index_col=0) for file in file_list]\n",
    "file = pd.concat(files) \n",
    "file"
   ]
  },
  {
   "cell_type": "code",
   "execution_count": 24,
   "id": "25f80b5b",
   "metadata": {},
   "outputs": [
    {
     "name": "stdout",
     "output_type": "stream",
     "text": [
      "[nan]\n",
      "[nan]\n",
      "[nan]\n",
      "[nan]\n"
     ]
    }
   ],
   "source": [
    "print(file[\"한글명\"].unique())\n",
    "print(file[\"기능위치\"].unique())\n",
    "print(file[\"기능위치명\"].unique())\n",
    "print(file[\"설치룸\"].unique())"
   ]
  },
  {
   "cell_type": "code",
   "execution_count": 25,
   "id": "2b9d9db1",
   "metadata": {},
   "outputs": [
    {
     "data": {
      "application/vnd.microsoft.datawrangler.viewer.v0+json": {
       "columns": [
        {
         "name": "index",
         "rawType": "int64",
         "type": "integer"
        },
        {
         "name": "한글명",
         "rawType": "object",
         "type": "unknown"
        },
        {
         "name": "기능위치",
         "rawType": "object",
         "type": "unknown"
        },
        {
         "name": "기능위치명",
         "rawType": "object",
         "type": "unknown"
        },
        {
         "name": "격실번호",
         "rawType": "object",
         "type": "unknown"
        }
       ],
       "conversionMethod": "pd.DataFrame",
       "ref": "82929b32-28f1-4bb4-b0e9-56a7d7186e6a",
       "rows": [
        [
         "0",
         null,
         null,
         null,
         null
        ]
       ],
       "shape": {
        "columns": 4,
        "rows": 1
       }
      },
      "text/html": [
       "<div>\n",
       "<style scoped>\n",
       "    .dataframe tbody tr th:only-of-type {\n",
       "        vertical-align: middle;\n",
       "    }\n",
       "\n",
       "    .dataframe tbody tr th {\n",
       "        vertical-align: top;\n",
       "    }\n",
       "\n",
       "    .dataframe thead th {\n",
       "        text-align: right;\n",
       "    }\n",
       "</style>\n",
       "<table border=\"1\" class=\"dataframe\">\n",
       "  <thead>\n",
       "    <tr style=\"text-align: right;\">\n",
       "      <th></th>\n",
       "      <th>한글명</th>\n",
       "      <th>기능위치</th>\n",
       "      <th>기능위치명</th>\n",
       "      <th>격실번호</th>\n",
       "    </tr>\n",
       "  </thead>\n",
       "  <tbody>\n",
       "    <tr>\n",
       "      <th>0</th>\n",
       "      <td>NaN</td>\n",
       "      <td>NaN</td>\n",
       "      <td>NaN</td>\n",
       "      <td>NaN</td>\n",
       "    </tr>\n",
       "  </tbody>\n",
       "</table>\n",
       "</div>"
      ],
      "text/plain": [
       "   한글명 기능위치 기능위치명 격실번호\n",
       "0  NaN  NaN   NaN  NaN"
      ]
     },
     "execution_count": 25,
     "metadata": {},
     "output_type": "execute_result"
    }
   ],
   "source": [
    "unique_file = file.loc[:, [\"한글명\", \"기능위치\", \"기능위치명\", \"격실번호\"]].drop_duplicates(subset=[\"한글명\", \"기능위치\", \"기능위치명\", \"격실번호\"])\n",
    "unique_file"
   ]
  },
  {
   "cell_type": "code",
   "execution_count": 21,
   "id": "e8942441",
   "metadata": {},
   "outputs": [],
   "source": [
    "unique_file.to_csv(\"cosine65.csv\", index=False)"
   ]
  },
  {
   "cell_type": "code",
   "execution_count": null,
   "id": "2e83d93c",
   "metadata": {},
   "outputs": [],
   "source": []
  }
 ],
 "metadata": {
  "kernelspec": {
   "display_name": "jung_clean",
   "language": "python",
   "name": "python3"
  },
  "language_info": {
   "codemirror_mode": {
    "name": "ipython",
    "version": 3
   },
   "file_extension": ".py",
   "mimetype": "text/x-python",
   "name": "python",
   "nbconvert_exporter": "python",
   "pygments_lexer": "ipython3",
   "version": "3.10.16"
  }
 },
 "nbformat": 4,
 "nbformat_minor": 5
}
