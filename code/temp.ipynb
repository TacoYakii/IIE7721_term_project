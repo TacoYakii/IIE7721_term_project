{
 "cells": [
  {
   "cell_type": "code",
   "execution_count": 13,
   "id": "0f7b1b51",
   "metadata": {},
   "outputs": [
    {
     "data": {
      "text/plain": [
       "\"/home/taco/Documents/projects/paper_analysis/data/image/[고리4호기]증기발생기 'A' 수실 배수관의 배수밸브 용접부 누설부위 정비를 위한 원자로 수동정지/0.jpg\""
      ]
     },
     "execution_count": 13,
     "metadata": {},
     "output_type": "execute_result"
    }
   ],
   "source": [
    "import glob \n",
    "import os\n",
    "img_root = \"/home/taco/Documents/projects/paper_analysis/data/image\" \n",
    "txt_root = \"/home/taco/Documents/projects/paper_analysis/data/txt\"\n",
    "\"/home/taco/Documents/projects/paper_analysis/data/image/[고리4호기]증기발생기 'A' 수실 배수관의 배수밸브 용접부 누설부위 정비를 위한 원자로 수동정지/0.jpg\""
   ]
  },
  {
   "cell_type": "code",
   "execution_count": 24,
   "id": "6ce1b8d0",
   "metadata": {},
   "outputs": [],
   "source": [
    "img_list = list(glob.glob(f\"{img_root}/*\")) \n",
    "\n",
    "for img in img_list: \n",
    "    nm = os.path.basename(img)\n",
    "    txt_path = os.path.join(txt_root, nm) \n",
    "    escape = glob.escape(txt_path)\n",
    "    num_txt_files = len(list(glob.glob(f\"{escape}/*.txt\")))\n",
    "    escape2 = glob.escape(img)\n",
    "    num_img_files = len(list(glob.glob(f\"{escape2}/*.jpg\")))\n",
    "    if num_img_files != num_txt_files: \n",
    "        print(\"mismatch! \", nm)"
   ]
  },
  {
   "cell_type": "code",
   "execution_count": 11,
   "id": "8e715d08",
   "metadata": {},
   "outputs": [
    {
     "data": {
      "text/plain": [
       "['/home/taco/Documents/projects/paper_analysis/data/image/주변압기 1차측 B상 no',\n",
       " '/home/taco/Documents/projects/paper_analysis/data/image/주변압기 충격압력식 계전기(563C)오동작에 의한 발전정지 (1)',\n",
       " '/home/taco/Documents/projects/paper_analysis/data/image/주여자기 여자전원 상실에 의한 터빈 및 원자로정지[1]',\n",
       " '/home/taco/Documents/projects/paper_analysis/data/image/원자로 정지와 관련된 계전기 교체를 위한 원자로 수동정지[1]',\n",
       " '/home/taco/Documents/projects/paper_analysis/data/image/주급수펌프 정지에 의한 증기발생기 저-저 수위 발생으로 원자로정지[1]',\n",
       " '/home/taco/Documents/projects/paper_analysis/data/image/제어봉제어카드 고장에 의한 원자로 정지',\n",
       " '/home/taco/Documents/projects/paper_analysis/data/image/초기서면보고서',\n",
       " '/home/taco/Documents/projects/paper_analysis/data/image/핵연료기 교체기기 제동장치 보수 및 비상노심 냉각계통 파열판 교체[1]',\n",
       " '/home/taco/Documents/projects/paper_analysis/data/image/영광5-20021103 한수원',\n",
       " '/home/taco/Documents/projects/paper_analysis/data/image/울진4-20020526 한수원',\n",
       " '/home/taco/Documents/projects/paper_analysis/data/image/[월성3호기]비상노심냉각계통 격리밸브 결빙관막음(freeze plug) 밀봉부를 통한 냉각재 누설 정비를 위한 원자로 수동정지',\n",
       " '/home/taco/Documents/projects/paper_analysis/data/image/터빈 제어유계통 누설정비를 위해 수동정지',\n",
       " '/home/taco/Documents/projects/paper_analysis/data/image/전력계통 송전선로 지락 및 단락사고로 인한 터빈 및 원자로정지[1]',\n",
       " '/home/taco/Documents/projects/paper_analysis/data/image/울진1-20021020 & 20021026 한수원',\n",
       " '/home/taco/Documents/projects/paper_analysis/data/image/[월성4호기]계획예방정비 중 가압기 증기배출밸브 배관연결부 관통결함 발견',\n",
       " '/home/taco/Documents/projects/paper_analysis/data/image/증기발생기 수위제어 미숙으로 고-고 수위에 의한 터빈 및 원자로 정지',\n",
       " '/home/taco/Documents/projects/paper_analysis/data/image/터빈보호계통 주기시험중 터빈보호계통 유압 저로 터빈 및 원자로정지[1]',\n",
       " '/home/taco/Documents/projects/paper_analysis/data/image/직류전원 공급카드 기능저하로 터빈 과속도 오신호에 의한 원자로정지[1]',\n",
       " '/home/taco/Documents/projects/paper_analysis/data/image/주급수 제어밸브 보수를 위한 원자로 수동정지',\n",
       " '/home/taco/Documents/projects/paper_analysis/data/image/오신호 유입으로 주급수펌프 (3대)가 정지되어 증기발생기 수위 저-저로 원자로정지[1]',\n",
       " '/home/taco/Documents/projects/paper_analysis/data/image/원자로 제어봉 제어계통 고장에 의한 원자로정지[1]',\n",
       " '/home/taco/Documents/projects/paper_analysis/data/image/주변압기 보호용 차동계전기 동작에 의한 터빈 및 원자로 정지[1]',\n",
       " '/home/taco/Documents/projects/paper_analysis/data/image/이물질 유입에 따른 발전기 여자기 손상에 의한 원자로정지[1]',\n",
       " '/home/taco/Documents/projects/paper_analysis/data/image/주급수펌프 저유량 제어밸브 과도개방에 의한 주급수 유량 감소로 원자로정지[1]',\n",
       " '/home/taco/Documents/projects/paper_analysis/data/image/월성1호기주변압기오일가스고압력경보발생에따른발전정지',\n",
       " '/home/taco/Documents/projects/paper_analysis/data/image/큰가시고기떼 유입으로 원자로 및 터빈정지[1]',\n",
       " '/home/taco/Documents/projects/paper_analysis/data/image/제2017-01차_의결안건-02(월성1-4)',\n",
       " '/home/taco/Documents/projects/paper_analysis/data/image/전원절체중 계전기 오동작으로 원자로냉작재펌프가 정지하여 원자로정지 발생',\n",
       " '/home/taco/Documents/projects/paper_analysis/data/image/원자력이용시설_조사보고서(20010116 울진2)',\n",
       " '/home/taco/Documents/projects/paper_analysis/data/image/핵연료 압력관 환형기체계통 정화중 원자로건물 격리 발생',\n",
       " '/home/taco/Documents/projects/paper_analysis/data/image/요약서',\n",
       " '/home/taco/Documents/projects/paper_analysis/data/image/터빈진동 고 정비위해 수동정지',\n",
       " '/home/taco/Documents/projects/paper_analysis/data/image/주증기 차단밸브 시스템 절손으로 증기발생기 수위 저-저로 원자로 및 터빈 정지 보고서[1]',\n",
       " '/home/taco/Documents/projects/paper_analysis/data/image/제2016-02차_의결안건-06(신고리3)',\n",
       " '/home/taco/Documents/projects/paper_analysis/data/image/주급수우회밸브 동작불량에 의한 증기발생기 수위제어 실패로 원자로정지[1]',\n",
       " \"/home/taco/Documents/projects/paper_analysis/data/image/[고리4호기]증기발생기 'A' 수실 배수관의 배수밸브 용접부 누설부위 정비를 위한 원자로 수동정지\",\n",
       " '/home/taco/Documents/projects/paper_analysis/data/image/정기시험중 원자로 제1정지계통 동작',\n",
       " '/home/taco/Documents/projects/paper_analysis/data/image/원자력이용시설 초기서면보고서',\n",
       " '/home/taco/Documents/projects/paper_analysis/data/image/주급수공급펌프 재순환유로 격리밸브의 오동작으로 증기발생기 수위과도상태에 의한 원자로 수동정지',\n",
       " '/home/taco/Documents/projects/paper_analysis/data/image/터빈 진동상승으로 발전소 수동정지[1]',\n",
       " '/home/taco/Documents/projects/paper_analysis/data/image/원자력이용시설 사건 초기 서면보고서(22-고리12호기-1-0)',\n",
       " '/home/taco/Documents/projects/paper_analysis/data/image/태풍 셀마호의 영향으로 주발전기 및 주변압기 차동보호계전기 동작으로 터빈 및 원자로정지 (1)',\n",
       " '/home/taco/Documents/projects/paper_analysis/data/image/핵연료 교체용 브릿지 구동장치 고장부분 수리 및 간이보수위해 원자로정지',\n",
       " '/home/taco/Documents/projects/paper_analysis/data/image/저압터빈 _2 Extration steam line의 expansion joint 파열에 의한 수동정지[1]',\n",
       " '/home/taco/Documents/projects/paper_analysis/data/image/원자력관계시설사고고장보고서(95-영광2호기)',\n",
       " '/home/taco/Documents/projects/paper_analysis/data/image/원자로냉각재펌프 베어링 및 열차폐벽 기기냉각수 상실로 원자로 수동정지[1]',\n",
       " '/home/taco/Documents/projects/paper_analysis/data/image/영광6-20021122 한수원',\n",
       " '/home/taco/Documents/projects/paper_analysis/data/image/취수구에 새우떼 유입으로 순환수 펌프가 정지하면서 원자로정지[1](0)',\n",
       " '/home/taco/Documents/projects/paper_analysis/data/image/주변압기 B 상 고장으로 발전기 수동정지',\n",
       " '/home/taco/Documents/projects/paper_analysis/data/image/원자력이용시설_사고고장보고서(20011015 영광2)',\n",
       " '/home/taco/Documents/projects/paper_analysis/data/image/터빈 제어유 누설부 정비위해 수동정지',\n",
       " \"/home/taco/Documents/projects/paper_analysis/data/image/한울2호기 사건조사보고서('16\",\n",
       " '/home/taco/Documents/projects/paper_analysis/data/image/제어용전산기의 급수계통 설정값 부적절로 제2정지계통 동작에 의한 원자로 정지',\n",
       " '/home/taco/Documents/projects/paper_analysis/data/image/포항지역 지진에 의한 월성 1호기 지진경보 발생에 따른 점검',\n",
       " '/home/taco/Documents/projects/paper_analysis/data/image/주급수 펌프 A,C 불시정지로 증기발생기 수위 저-저에 의해 원자로 및 터빈정지[1]',\n",
       " '/home/taco/Documents/projects/paper_analysis/data/image/주발전 중성점 과전압계전기 동작에 의한 원자로정지[1]',\n",
       " '/home/taco/Documents/projects/paper_analysis/data/image/영광6-20021002 한수원',\n",
       " '/home/taco/Documents/projects/paper_analysis/data/image/[한빛3호기]원자로헤드 배기관 균열에 의한 원자로냉각재누설',\n",
       " '/home/taco/Documents/projects/paper_analysis/data/image/증기발생기 주증기 습분과다로 인한 원자로 정지[1]',\n",
       " '/home/taco/Documents/projects/paper_analysis/data/image/[한울3호기]계획예방정비 중 원자로냉각재계통 시료채취배관 연결부 관통결함 발견',\n",
       " '/home/taco/Documents/projects/paper_analysis/data/image/터빈진동 급상승에 따른 점검을 수행하기 위한 원자로 수동정지[1]',\n",
       " '/home/taco/Documents/projects/paper_analysis/data/image/저압터빈 배기온도 스위치 오동작으로 고 신호가 발생되어 터빈 및 원자로정지[1]',\n",
       " '/home/taco/Documents/projects/paper_analysis/data/image/입구 유효흡입수두 상실에 의한',\n",
       " '/home/taco/Documents/projects/paper_analysis/data/image/저압터빈 팽창율 점검 및 축밀봉장치 간극조정을 위한 원자로 수동정지',\n",
       " '/home/taco/Documents/projects/paper_analysis/data/image/주급수조절밸브의 동작불량에 의한 증기발생기 고-고 수위로 터빈발전기 및 원자로정지',\n",
       " '/home/taco/Documents/projects/paper_analysis/data/image/태풍 베라호의 영향으로 주변압기 차동 보호계전기가 동작되어 터빈 및 원자로 정지[1]',\n",
       " '/home/taco/Documents/projects/paper_analysis/data/image/제어봉 정지권선 전원공급 퓨즈의 용단에 의한 제어봉 낙하로 원자로정지[1]',\n",
       " '/home/taco/Documents/projects/paper_analysis/data/image/취수구에 새우떼 유입으로 원자로 수동삽입하여 미임계상태 도달',\n",
       " '/home/taco/Documents/projects/paper_analysis/data/image/주발전기 고정자냉각수 유량감소 정비위한 수동정지[1]',\n",
       " '/home/taco/Documents/projects/paper_analysis/data/image/주증기모관 배기밸브 정비, 저압터빈 날개 점검, MSR Expansion Bellows Joint 점검 등을 위한 원자로 수',\n",
       " '/home/taco/Documents/projects/paper_analysis/data/image/영출력 노물리 시험중 과도한 반응도 삽입에 의한 원자로정지[1]',\n",
       " '/home/taco/Documents/projects/paper_analysis/data/image/출력 상승중 파열된 비상노심 냉각계통 파열판 수리위해 원자로정지',\n",
       " '/home/taco/Documents/projects/paper_analysis/data/image/주증기 수분함량 감소를 위한 증기발생기 내부 설계변경 및 간이보수[1]',\n",
       " '/home/taco/Documents/projects/paper_analysis/data/image/요약본',\n",
       " '/home/taco/Documents/projects/paper_analysis/data/image/태풍 셀마호의 영향으로 주발전기 차동계전기 동작으로 터빈 및 원자로정지[1]',\n",
       " '/home/taco/Documents/projects/paper_analysis/data/image/울진2-20030516 한수원',\n",
       " '/home/taco/Documents/projects/paper_analysis/data/image/흡수봉(MCA)제어장치 CLUTCH POWER DIODE 교체[1]',\n",
       " '/home/taco/Documents/projects/paper_analysis/data/image/주발전기 냉각용 수소가스 누설부 정비위해 수동정지',\n",
       " '/home/taco/Documents/projects/paper_analysis/data/image/제어봉 구동전원 접속부위 접촉불량에 의한 제어봉 낙하로 원자로정지[1]',\n",
       " '/home/taco/Documents/projects/paper_analysis/data/image/취수구에 새우떼 유입으로 순환수 펌프가 정지하면서 원자로정지[1](2)',\n",
       " '/home/taco/Documents/projects/paper_analysis/data/image/원자로 냉각재 유로의 RTD 우회배관 차단밸브 누설부 정비위한 수동정지[1]',\n",
       " '/home/taco/Documents/projects/paper_analysis/data/image/원자력이용시설_조사보고서(20010903 영광2)',\n",
       " '/home/taco/Documents/projects/paper_analysis/data/image/터빈 과속보호꼐통 시험중 증기발생기 저-저에 의해 원자로 및 터빈 정지[1]',\n",
       " '/home/taco/Documents/projects/paper_analysis/data/image/주급수 제어밸브 FCV-522 제어 불량으로 SG B LO LO LVL 되어 원자로 및 터빈 발전기 정지',\n",
       " '/home/taco/Documents/projects/paper_analysis/data/image/전자기판 소자 고장에 의한 주_',\n",
       " '/home/taco/Documents/projects/paper_analysis/data/image/주급수 차단밸브의 누설보수를 위해 터빈발전기 및 원자로 수동정지',\n",
       " '/home/taco/Documents/projects/paper_analysis/data/image/주급수펌프 정지에 의한 원자로 및 터빈 발전기 정지 보고서',\n",
       " '/home/taco/Documents/projects/paper_analysis/data/image/주급수조절밸브 위치기 고장에 의한 터빈 및 원자로 정지[1]',\n",
       " '/home/taco/Documents/projects/paper_analysis/data/image/울진3-20021227 한수원',\n",
       " '/home/taco/Documents/projects/paper_analysis/data/image/원자력이용시설 사건 초기 서면보고서',\n",
       " '/home/taco/Documents/projects/paper_analysis/data/image/폐기물 처리건물 1차 기기 냉각수 공급밸브 오조작으로 원자로정지[1]',\n",
       " '/home/taco/Documents/projects/paper_analysis/data/image/울진1-20031013 한수원',\n",
       " '/home/taco/Documents/projects/paper_analysis/data/image/터빈베어링 진동증가 보수를 위한 원자로 수동정지[1]',\n",
       " '/home/taco/Documents/projects/paper_analysis/data/image/주발전기 모선측 변류기 단자 단선에 의한 원자로 정지[1]',\n",
       " '/home/taco/Documents/projects/paper_analysis/data/image/취수구에 새우떼 유입으로 순환수 펌프가 정지하면서 원자로정지[1]',\n",
       " '/home/taco/Documents/projects/paper_analysis/data/image/전자회로기판 고장에 의한 안전주입 발생 및 원자로 정지[1]',\n",
       " '/home/taco/Documents/projects/paper_analysis/data/image/취수구에 새우떼 유입으로 순환수 펌프가 정지하면서 원자로정지[1](1)',\n",
       " \"/home/taco/Documents/projects/paper_analysis/data/image/주증기 차단밸브 'A' 솔레노이드 소손으로 밸브가 닫혀 주증기관 압력 -저에 의해 안전주입 및 원자로 정지\",\n",
       " '/home/taco/Documents/projects/paper_analysis/data/image/울진1-20030603 한수원',\n",
       " '/home/taco/Documents/projects/paper_analysis/data/image/주증기 차단밸브 제어카드 고장에 의한 닫힘으로 원자로 및 터빈정지[1]']"
      ]
     },
     "execution_count": 11,
     "metadata": {},
     "output_type": "execute_result"
    }
   ],
   "source": [
    "img_list"
   ]
  },
  {
   "cell_type": "code",
   "execution_count": 6,
   "id": "7ad7ac6f",
   "metadata": {},
   "outputs": [
    {
     "name": "stdout",
     "output_type": "stream",
     "text": [
      "<class 'str'>\n"
     ]
    }
   ],
   "source": [
    "with open(\"/home/taco/Documents/projects/paper_analysis/data/txt/[고리4호기]증기발생기 'A' 수실 배수관의 배수밸브 용접부 누설부위 정비를 위한 원자로 수동정지/8.txt\", \"r\", encoding=\"utf-8\") as f: \n",
    "    content = f.read() \n",
    "    print(type(content))"
   ]
  },
  {
   "cell_type": "code",
   "execution_count": 7,
   "id": "7ec5468c",
   "metadata": {},
   "outputs": [
    {
     "data": {
      "text/plain": [
       "1083"
      ]
     },
     "execution_count": 7,
     "metadata": {},
     "output_type": "execute_result"
    }
   ],
   "source": [
    "len(content)"
   ]
  },
  {
   "cell_type": "code",
   "execution_count": 8,
   "id": "7429946a",
   "metadata": {},
   "outputs": [],
   "source": [
    "import kss "
   ]
  },
  {
   "cell_type": "code",
   "execution_count": 9,
   "id": "8212d635",
   "metadata": {},
   "outputs": [
    {
     "name": "stdout",
     "output_type": "stream",
     "text": [
      "['으로 검토한   결과   특이사항은   확인되지 않분   것으로   제시하여다.', 'X   원자로냉각재 총   비방사능(기체 +액체): 3,50E+02   Bqlg(제한치   2.02E+06Bq/g) 겪납건물 방사능 준위(Gas 기준) 최대 166x109 최소 0.18 pCilcc (경보치 8.40E-04 HCilcc) 현장 조사팀   평가결과 ,발전소   소내: 외   방사선   준위는   평상시   변동범위내로   유지되엇고   특이사항이   확 인되지 않아 금번  사건으로 인한 방사선영향은 미미한 것으로 판단한다', \"나:  작업자   피플관리원전운영자는 '17년 3월 27일부터 '18년 3월 27일까지   배수별부   누설부위   점검과 유지보수름  위해   격납건물에   출입한   작업자 140명에게   방사선작업관리   절차에 따라   특수방사선작업허가서클   발급하고 보건물리요원에   의해 해당지역   출입 통제가   수행된  것으로   제시하엿다\", \":'17년 기간   중 작업자   피독선량과   관련하여  원전 운영자는 금번   사건과   고리 2발   계획예방정비기간   중  수행된 작업올 기준으로 개인 최대 8.48 mSv의 연간선량올   평가한   결과흘   제시하여고, 동   작업자  중 고리2발전소v 제외한 타  원전   작업까지 포함하는   경우  개인   최대   피독선량이 10.02 mSv로  평가돈 것으로  제시하엿다:또한  '18년   수행님   작업에   대해서는 사건   후속조치로 증기발생기   배수   배관 에 대한   관막음\", '조치가   완료(18.3.27) 된 시점까지   작업자의 피폭선량올   평가 하여 제시하엿는데 , 보조선량계 축정값올   기준으로 개인 최대 1.70 mSv가 기록되없다.', '현장조사팀 검토결과 ,발전소의 소내 외   방사선  영향은 평상시   변동범위내로  유지되어   특이사항이   확인 되지 않앞으미, 작업자 피똑관리도   원자락안전법령에서 요구하는 연간   선랑한 도치(50 mSv/yr) 이내로   관리되어   적절한  것으로  판단하여다.3.1.2 원인분석   및  운전경험   반영3.1.2.1 사건   원인분석   및 평가가  원자로냉각재  누설 원인분석8']\n"
     ]
    }
   ],
   "source": [
    "sentences = kss.split_sentences(content) \n",
    "print(sentences)"
   ]
  },
  {
   "cell_type": "code",
   "execution_count": 14,
   "id": "54f589f3",
   "metadata": {},
   "outputs": [],
   "source": [
    "import pandas as pd \n",
    "from sentence_transformers import SentenceTransformer, util\n",
    "\n",
    "embedder = SentenceTransformer(\"jhgan/ko-sroberta-multitask\")\n",
    "df = pd.read_csv(\"/home/taco/Documents/projects/paper_analysis/data/preprocessed/[월성3호기]비상노심냉각계통 격리밸브 결빙관막음(freeze plug) 밀봉부를 통한 냉각재 누설 정비를 위한 원자로 수동정지.csv\")\n",
    "\n",
    "embedding = embedder.encode(df[\"문장\"], convert_to_tensor=True)"
   ]
  },
  {
   "cell_type": "code",
   "execution_count": 30,
   "id": "d289295b",
   "metadata": {},
   "outputs": [
    {
     "data": {
      "text/plain": [
       "(128,)"
      ]
     },
     "execution_count": 30,
     "metadata": {},
     "output_type": "execute_result"
    }
   ],
   "source": [
    "df[\"문장\"].shape"
   ]
  },
  {
   "cell_type": "code",
   "execution_count": 12,
   "id": "3e80fe3a",
   "metadata": {},
   "outputs": [],
   "source": [
    "DATA_ROOT = \"/home/taco/Documents/projects/paper_analysis/data\" \n",
    "import os\n",
    "\n",
    "historical_data = pd.read_excel(os.path.join(DATA_ROOT, \"Historical_data.xlsx\"))[\"오염문장\"]\n",
    "queries = historical_data.values.tolist() \n",
    "room_df = pd.read_excel(os.path.join(DATA_ROOT, \"Model_DB.xlsx\"), sheet_name=\"격실 DB\")\n",
    "instrument_df = pd.read_excel(os.path.join(DATA_ROOT, \"Model_DB.xlsx\"), sheet_name=\"기기 DB\")"
   ]
  },
  {
   "cell_type": "code",
   "execution_count": 33,
   "id": "305d02dd",
   "metadata": {},
   "outputs": [
    {
     "data": {
      "text/plain": [
       "(136,)"
      ]
     },
     "execution_count": 33,
     "metadata": {},
     "output_type": "execute_result"
    }
   ],
   "source": [
    "historical_data.shape"
   ]
  },
  {
   "cell_type": "code",
   "execution_count": 27,
   "id": "6f107ef8",
   "metadata": {},
   "outputs": [],
   "source": [
    "query_embedding = embedder.encode(historical_data, convert_to_tensor=True)\n",
    "cos_scores = util.pytorch_cos_sim(query_embedding, embedding)"
   ]
  },
  {
   "cell_type": "code",
   "execution_count": 22,
   "id": "a5e3c4cc",
   "metadata": {},
   "outputs": [
    {
     "data": {
      "text/plain": [
       "torch.Size([1, 128])"
      ]
     },
     "execution_count": 22,
     "metadata": {},
     "output_type": "execute_result"
    }
   ],
   "source": [
    "cos_scores.shape"
   ]
  },
  {
   "cell_type": "code",
   "execution_count": 26,
   "id": "7ee1cc88",
   "metadata": {},
   "outputs": [
    {
     "data": {
      "text/plain": [
       "tensor([0.5606, 0.6564, 0.5482, 0.6143, 0.5233, 0.5214, 0.5169, 0.6437, 0.5513,\n",
       "        0.4353, 0.5498, 0.5675, 0.4387, 0.2866, 0.3642, 0.1531, 0.4655, 0.5678,\n",
       "        0.6048, 0.5166, 0.4648, 0.3605, 0.6035, 0.5842, 0.5954, 0.5296, 0.5753,\n",
       "        0.5221, 0.4437, 0.4996, 0.5958, 0.5974, 0.2031, 0.4721, 0.4302, 0.0405,\n",
       "        0.6367, 0.4628, 0.3028, 0.5393, 0.1191, 0.5702, 0.4966, 0.2432, 0.2421,\n",
       "        0.4030, 0.2346, 0.4144, 0.3102, 0.5173, 0.3995, 0.2906, 0.4749, 0.2273,\n",
       "        0.4304, 0.2205, 0.3262, 0.2190, 0.4354, 0.5109, 0.3325, 0.4868, 0.3800,\n",
       "        0.2099, 0.3328, 0.2921, 0.3782, 0.5882, 0.5672, 0.3592, 0.4238, 0.5653,\n",
       "        0.5530, 0.5253, 0.4989, 0.2325, 0.4513, 0.4071, 0.1376, 0.4622, 0.3942,\n",
       "        0.4121, 0.3118, 0.4674, 0.4542, 0.4125, 0.1948, 0.1020, 0.3251, 0.2394,\n",
       "        0.3696, 0.3155, 0.3424, 0.4462, 0.0992, 0.5784, 0.4233, 0.0830, 0.4859,\n",
       "        0.4308, 0.3580, 0.3653, 0.2618, 0.4510, 0.3148, 0.0779, 0.3460, 0.3236,\n",
       "        0.4093, 0.3980, 0.3446, 0.5199, 0.4922, 0.3409, 0.4223, 0.3569, 0.1866,\n",
       "        0.2439, 0.6551, 0.5468, 0.5582, 0.4406, 0.6202, 0.5435, 0.4921, 0.3092,\n",
       "        0.1833, 0.3609], device='cuda:0')"
      ]
     },
     "execution_count": 26,
     "metadata": {},
     "output_type": "execute_result"
    }
   ],
   "source": [
    "cos_scores[0]"
   ]
  },
  {
   "cell_type": "code",
   "execution_count": 29,
   "id": "0a37f9e5",
   "metadata": {},
   "outputs": [
    {
     "data": {
      "text/plain": [
       "(136,)"
      ]
     },
     "execution_count": 29,
     "metadata": {},
     "output_type": "execute_result"
    }
   ],
   "source": [
    "historical_data.shape"
   ]
  },
  {
   "cell_type": "code",
   "execution_count": 23,
   "id": "b0eae382",
   "metadata": {},
   "outputs": [
    {
     "data": {
      "text/plain": [
       "torch.Size([768])"
      ]
     },
     "execution_count": 23,
     "metadata": {},
     "output_type": "execute_result"
    }
   ],
   "source": [
    "query_embedding.shape"
   ]
  },
  {
   "cell_type": "code",
   "execution_count": 24,
   "id": "146f75c0",
   "metadata": {},
   "outputs": [
    {
     "data": {
      "text/plain": [
       "torch.Size([128, 768])"
      ]
     },
     "execution_count": 24,
     "metadata": {},
     "output_type": "execute_result"
    }
   ],
   "source": [
    "embedding.shape"
   ]
  },
  {
   "cell_type": "code",
   "execution_count": null,
   "id": "5617132c",
   "metadata": {},
   "outputs": [
    {
     "data": {
      "text/plain": [
       "torch.Size([136, 128])"
      ]
     },
     "execution_count": 28,
     "metadata": {},
     "output_type": "execute_result"
    }
   ],
   "source": [
    "cos_scores.shape # quesries 와 embedding 사이의 cosine 유사도 "
   ]
  },
  {
   "cell_type": "code",
   "execution_count": 41,
   "id": "73c7e79b",
   "metadata": {},
   "outputs": [],
   "source": [
    "import numpy as np \n",
    "\n",
    "cos_scores = cos_scores.cpu()\n",
    "result = np.where(cos_scores > 0.65)\n"
   ]
  },
  {
   "cell_type": "code",
   "execution_count": 43,
   "id": "5852d59d",
   "metadata": {},
   "outputs": [
    {
     "data": {
      "text/plain": [
       "torch.Size([136, 128])"
      ]
     },
     "execution_count": 43,
     "metadata": {},
     "output_type": "execute_result"
    }
   ],
   "source": [
    "cos_scores.shape"
   ]
  },
  {
   "cell_type": "code",
   "execution_count": 47,
   "id": "33b0e472",
   "metadata": {},
   "outputs": [],
   "source": [
    "hist_index, input_index = np.where(cos_scores > 0.65) \n",
    "score_values = cos_scores[hist_index, input_index]\n",
    "df = pd.DataFrame({\n",
    "    \"hist_idx\": hist_index, \n",
    "    \"input_idx\": input_index, \n",
    "    \"cosine_score\": score_values \n",
    "})"
   ]
  },
  {
   "cell_type": "code",
   "execution_count": 3,
   "id": "cf69f2a1",
   "metadata": {},
   "outputs": [],
   "source": [
    "import pandas as pd \n",
    "import os \n",
    "\n",
    "\n",
    "DATA_ROOT = \"/home/taco/Documents/projects/paper_analysis/data\" \n",
    "\n",
    "historical_data = pd.read_excel(os.path.join(DATA_ROOT, \"Historical_data.xlsx\"))[\"오염문장\"].values\n",
    "room_df = pd.read_excel(os.path.join(DATA_ROOT, \"Model_DB.xlsx\"), sheet_name=\"격실 DB\")"
   ]
  },
  {
   "cell_type": "code",
   "execution_count": 7,
   "id": "e2e8dce4",
   "metadata": {},
   "outputs": [
    {
     "name": "stdout",
     "output_type": "stream",
     "text": [
      "0 nan\n",
      "1 R-501\n",
      "2 R-108\n",
      "3 nan\n",
      "4 nan\n",
      "5 nan\n",
      "6 nan\n"
     ]
    }
   ],
   "source": [
    "for idx, value in enumerate(room_df[\"격실번호\"]):\n",
    "    print(idx, value)"
   ]
  },
  {
   "cell_type": "code",
   "execution_count": null,
   "id": "f236b26d",
   "metadata": {},
   "outputs": [],
   "source": []
  },
  {
   "cell_type": "code",
   "execution_count": null,
   "id": "2c23f3d3",
   "metadata": {},
   "outputs": [],
   "source": []
  }
 ],
 "metadata": {
  "kernelspec": {
   "display_name": "jung_clean",
   "language": "python",
   "name": "python3"
  },
  "language_info": {
   "codemirror_mode": {
    "name": "ipython",
    "version": 3
   },
   "file_extension": ".py",
   "mimetype": "text/x-python",
   "name": "python",
   "nbconvert_exporter": "python",
   "pygments_lexer": "ipython3",
   "version": "3.10.16"
  }
 },
 "nbformat": 4,
 "nbformat_minor": 5
}
